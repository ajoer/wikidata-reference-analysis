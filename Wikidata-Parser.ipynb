{
 "cells": [
  {
   "cell_type": "markdown",
   "metadata": {},
   "source": [
    "# Imports"
   ]
  },
  {
   "cell_type": "code",
   "execution_count": 1,
   "metadata": {},
   "outputs": [],
   "source": [
    "import numpy as np\n",
    "import uuid\n",
    "import pandas as pd\n",
    "import os\n",
    "import bz2\n",
    "import random\n",
    "import scipy.stats as stats\n",
    "import json\n",
    "import seaborn as sns\n",
    "import qwikidata\n",
    "import matplotlib.pyplot as plt\n",
    "from qwikidata.json_dump import WikidataJsonDump\n",
    "#import pymongo\n",
    "from qwikidata.linked_data_interface import get_entity_dict_from_api\n",
    "from collections import Counter\n",
    "from qwikidata.entity import WikidataItem, WikidataProperty, WikidataLexeme\n",
    "import sqlite3\n",
    "from itertools import islice"
   ]
  },
  {
   "cell_type": "markdown",
   "metadata": {},
   "source": [
    "# Parse Dumps"
   ]
  },
  {
   "cell_type": "code",
   "execution_count": 2,
   "metadata": {},
   "outputs": [],
   "source": [
    "#db_client = pymongo.MongoClient()\n",
    "#mongo_db = db_client['wikidata_20200213']\n",
    "#mongo_collection = mongo_db.claims_only\n",
    "\n",
    "sql_db = sqlite3.connect('data/wikidata.db')\n",
    "sql_cursor = sql_db.cursor()\n",
    "\n",
    "wjd = WikidataJsonDump('data/latest-all.json.bz2') #Downloaded 13 Feb 2020"
   ]
  },
  {
   "cell_type": "code",
   "execution_count": 39,
   "metadata": {},
   "outputs": [],
   "source": [
    "#sql_db.close()"
   ]
  },
  {
   "cell_type": "code",
   "execution_count": 7,
   "metadata": {},
   "outputs": [
    {
     "ename": "OperationalError",
     "evalue": "near \"references\": syntax error",
     "output_type": "error",
     "traceback": [
      "\u001b[1;31m---------------------------------------------------------------------------\u001b[0m",
      "\u001b[1;31mOperationalError\u001b[0m                          Traceback (most recent call last)",
      "\u001b[1;32m<ipython-input-7-38afb6778b12>\u001b[0m in \u001b[0;36m<module>\u001b[1;34m\u001b[0m\n\u001b[0;32m     25\u001b[0m             \u001b[0mreference_index\u001b[0m\u001b[1;33m\u001b[0m\u001b[1;33m\u001b[0m\u001b[0m\n\u001b[0;32m     26\u001b[0m         )\n\u001b[1;32m---> 27\u001b[1;33m )''')\n\u001b[0m\u001b[0;32m     28\u001b[0m \u001b[0msql_db\u001b[0m\u001b[1;33m.\u001b[0m\u001b[0mcommit\u001b[0m\u001b[1;33m(\u001b[0m\u001b[1;33m)\u001b[0m\u001b[1;33m\u001b[0m\u001b[1;33m\u001b[0m\u001b[0m\n",
      "\u001b[1;31mOperationalError\u001b[0m: near \"references\": syntax error"
     ]
    }
   ],
   "source": [
    "sql_cursor.execute('''\n",
    "    CREATE TABLE refs(\n",
    "        entity_id TEXT,\n",
    "        claim_id TEXT,\n",
    "        claim_rank TEXT,\n",
    "        property_id TEXT,\n",
    "        reference_block_hash TEXT,\n",
    "        reference_property_id TEXT,\n",
    "        reference_index TEXT,\n",
    "        reference_snaktype TEXT,\n",
    "        reference_datatype TEXT,\n",
    "        reference_value TEXT,\n",
    "        PRIMARY KEY (\n",
    "            entity_id,\n",
    "            claim_id,\n",
    "            claim_rank,\n",
    "            property_id,\n",
    "            reference_block_hash,\n",
    "            reference_property_id,\n",
    "            reference_index\n",
    "        )\n",
    ")''')\n",
    "sql_db.commit()"
   ]
  },
  {
   "cell_type": "code",
   "execution_count": 42,
   "metadata": {},
   "outputs": [],
   "source": [
    "def consume(iterator, n=None):\n",
    "    \"Advance the iterator n-steps ahead. If n is None, consume entirely.\"\n",
    "    # Use functions that consume iterators at C speed.\n",
    "    if n is None:\n",
    "        # feed the entire iterator into a zero-length deque\n",
    "        collections.deque(iterator, maxlen=0)\n",
    "    else:\n",
    "        # advance to the empty slice starting at position n\n",
    "        next(islice(iterator, n, n), None)"
   ]
  },
  {
   "cell_type": "code",
   "execution_count": 43,
   "metadata": {},
   "outputs": [],
   "source": [
    "def get_reference_to_sqlite(e):\n",
    "    for claim_group in e['claims']:\n",
    "            for claim in e['claims'][claim_group]:\n",
    "                if 'references' in claim:\n",
    "                    for ref in claim['references']:\n",
    "                        for ref_prop_id in ref['snaks-order']:\n",
    "                            for j, snak in enumerate(ref['snaks'][ref_prop_id]):\n",
    "                                if 'datavalue' in snak:\n",
    "                                    value = (str(snak['datavalue']['value']))\n",
    "                                else:\n",
    "                                    value = 'none'\n",
    "                                try:\n",
    "                                    #print('Trying')\n",
    "                                    sql_cursor.execute('''INSERT INTO refs(entity_id, property_id, claim_id, claim_rank,\n",
    "                                    reference_block_hash, reference_property_id, reference_index, reference_snaktype, reference_datatype, reference_value)\n",
    "                                    VALUES(?,?,?,?,?,?,?,?,?,?)''', (\n",
    "                                        e['id'],\n",
    "                                        claim['mainsnak']['property'],\n",
    "                                        claim['id'],\n",
    "                                        claim['rank'],\n",
    "                                        ref['hash'],\n",
    "                                        ref_prop_id,\n",
    "                                        j,\n",
    "                                        snak['snaktype'],\n",
    "                                        snak['datatype'],\n",
    "                                        value\n",
    "                                    ))\n",
    "                                except sqlite3.IntegrityError as err:\n",
    "                                    sql_cursor.execute(\n",
    "                                        '''SELECT reference_snaktype, reference_datatype, reference_value\n",
    "                                        FROM refs \n",
    "                                        WHERE entity_id=? AND property_id=? AND claim_id=? AND claim_rank=? AND\n",
    "                                        reference_block_hash=? AND reference_property_id=? AND reference_index=?''', (\n",
    "                                        e['id'],\n",
    "                                        claim['mainsnak']['property'],\n",
    "                                        claim['id'],\n",
    "                                        claim['rank'],\n",
    "                                        ref['hash'],\n",
    "                                        ref_prop_id,\n",
    "                                        j\n",
    "                                    ))\n",
    "                                    conflicted_value = sql_cursor.fetchone()\n",
    "                                    if conflicted_value[0] == snak['snaktype'] and conflicted_value[1] == snak['datatype'] and conflicted_value[2] == value:\n",
    "                                        #print('Repeated')\n",
    "                                        continue\n",
    "                                    else:\n",
    "                                        raise(err)\n",
    "                else:\n",
    "                    try:\n",
    "                        sql_cursor.execute('''INSERT INTO refs(entity_id, property_id, claim_id, claim_rank,\n",
    "                        reference_block_hash, reference_property_id, reference_index, reference_snaktype, reference_datatype, reference_value)\n",
    "                        VALUES(?,?,?,?,?,?,?,?,?,?)''', (\n",
    "                            e['id'],\n",
    "                            claim['mainsnak']['property'],\n",
    "                            claim['id'],\n",
    "                            claim['rank'],\n",
    "                            'none',\n",
    "                            'none',\n",
    "                            'none',\n",
    "                            'none',\n",
    "                            'none',\n",
    "                            'none'\n",
    "                        ))\n",
    "                    except sqlite3.IntegrityError as err:\n",
    "                        sql_cursor.execute(\n",
    "                            '''SELECT reference_snaktype, reference_datatype, reference_value\n",
    "                            FROM refs \n",
    "                            WHERE entity_id=? AND property_id=? AND claim_id=? AND claim_rank=? AND\n",
    "                            reference_block_hash=? AND reference_property_id=? AND reference_index=?''', (\n",
    "                            e['id'],\n",
    "                            claim['mainsnak']['property'],\n",
    "                            claim['id'],\n",
    "                            claim['rank'],\n",
    "                            'none',\n",
    "                            'none',\n",
    "                            'none'\n",
    "                        ))\n",
    "                        conflicted_value = sql_cursor.fetchone()\n",
    "                        if conflicted_value[0] == 'none' and conflicted_value[1] == 'none' and conflicted_value[2] == 'none':\n",
    "                            #print('Repeated')\n",
    "                            continue\n",
    "                        else:\n",
    "                            raise(err)"
   ]
  },
  {
   "cell_type": "code",
   "execution_count": 44,
   "metadata": {},
   "outputs": [],
   "source": [
    "np.random.seed(77175441)\n",
    "picks = np.random.choice(77175441,size=int((.2)*77175441),replace=False)\n",
    "picks = sorted(picks)"
   ]
  },
  {
   "cell_type": "code",
   "execution_count": 73,
   "metadata": {},
   "outputs": [
    {
     "name": "stdout",
     "output_type": "stream",
     "text": [
      "Expecting value: line 1 column 1 (char 0)\n",
      "Q8\n",
      "\n",
      "76520571\n"
     ]
    },
    {
     "ename": "TypeError",
     "evalue": "write() argument must be str, not list",
     "output_type": "error",
     "traceback": [
      "\u001b[1;31m---------------------------------------------------------------------------\u001b[0m",
      "\u001b[1;31mTypeError\u001b[0m                                 Traceback (most recent call last)",
      "\u001b[1;32m<ipython-input-73-5e5d137b715e>\u001b[0m in \u001b[0;36m<module>\u001b[1;34m\u001b[0m\n\u001b[0;32m     32\u001b[0m     \u001b[1;31m#f.close()\u001b[0m\u001b[1;33m\u001b[0m\u001b[1;33m\u001b[0m\u001b[1;33m\u001b[0m\u001b[0m\n\u001b[0;32m     33\u001b[0m     \u001b[1;32mwith\u001b[0m \u001b[0mopen\u001b[0m\u001b[1;33m(\u001b[0m\u001b[1;34m'data/savepoints.json'\u001b[0m\u001b[1;33m,\u001b[0m\u001b[1;34m'w'\u001b[0m\u001b[1;33m)\u001b[0m \u001b[1;32mas\u001b[0m \u001b[0msvs\u001b[0m\u001b[1;33m:\u001b[0m\u001b[1;33m\u001b[0m\u001b[1;33m\u001b[0m\u001b[0m\n\u001b[1;32m---> 34\u001b[1;33m         \u001b[0msvs\u001b[0m\u001b[1;33m.\u001b[0m\u001b[0mwrite\u001b[0m\u001b[1;33m(\u001b[0m\u001b[0msavepoints\u001b[0m\u001b[1;33m)\u001b[0m\u001b[1;33m\u001b[0m\u001b[1;33m\u001b[0m\u001b[0m\n\u001b[0m",
      "\u001b[1;31mTypeError\u001b[0m: write() argument must be str, not list"
     ]
    }
   ],
   "source": [
    "f = bz2.open('data/latest-all.json.bz2', mode=\"rb\")\n",
    "last_pick = -1\n",
    "\n",
    "if last_pick == -1:\n",
    "    savepoints = [None] * len(picks)\n",
    "    index_start = 0\n",
    "    f.seek(0)\n",
    "    consume(f,1) #skipping first {\n",
    "else:\n",
    "    index_start = picks.index(last_pick)+1\n",
    "    f.seek(savepoints[index_start-1])\n",
    "    consume(f,1)  #skipping first {\n",
    "try:\n",
    "    for i, pick in enumerate(picks[index_start:]):\n",
    "        consume(f, pick - last_pick - 1)\n",
    "        savepoints[index_start+i] = f.tell()\n",
    "        linebytes = f.readline()\n",
    "        line_str = linebytes.decode('utf-8')\n",
    "        line_str = line_str.rstrip(',\\n')\n",
    "        e = json.loads(line_str)\n",
    "        #print(e['id']+20*' ')\n",
    "        print(str(pick/77175441*100)+'%'+20*' ',end='\\r')\n",
    "        get_reference_to_sqlite(e)        \n",
    "        last_pick = pick\n",
    "        #print(index_start+i, pick, entity['id'], savepoints[index_start+i])\n",
    "except Exception as err:\n",
    "    print(err)\n",
    "    print(e['id'])\n",
    "finally:\n",
    "    sql_db.commit()\n",
    "    print('\\n'+str(last_pick))\n",
    "    #f.close()"
   ]
  },
  {
   "cell_type": "code",
   "execution_count": null,
   "metadata": {},
   "outputs": [],
   "source": [
    "#j = []\n",
    "#for i in range(len(savepoints)):\n",
    "#    j.append({'pick':picks[i], 'savepoint':savepoints[i]})\n",
    "with open('data/savepoints.json','w') as f:\n",
    "    json.dump(j,f)"
   ]
  },
  {
   "cell_type": "code",
   "execution_count": 160,
   "metadata": {},
   "outputs": [
    {
     "data": {
      "text/plain": [
       "([21, 29, 32], 16)"
      ]
     },
     "execution_count": 160,
     "metadata": {},
     "output_type": "execute_result"
    }
   ],
   "source": [
    "index_start = picks.index(last_pick)+1\n",
    "picks[index_start:index_start+3], last_pick"
   ]
  },
  {
   "cell_type": "code",
   "execution_count": 7,
   "metadata": {},
   "outputs": [
    {
     "ename": "KeyboardInterrupt",
     "evalue": "",
     "output_type": "error",
     "traceback": [
      "\u001b[1;31m---------------------------------------------------------------------------\u001b[0m",
      "\u001b[1;31mKeyboardInterrupt\u001b[0m                         Traceback (most recent call last)",
      "\u001b[1;32m<ipython-input-7-5f94cbebeb37>\u001b[0m in \u001b[0;36m<module>\u001b[1;34m\u001b[0m\n\u001b[0;32m      1\u001b[0m \u001b[0mit\u001b[0m \u001b[1;33m=\u001b[0m \u001b[0menumerate\u001b[0m\u001b[1;33m(\u001b[0m\u001b[0mwjd\u001b[0m\u001b[1;33m)\u001b[0m\u001b[1;33m\u001b[0m\u001b[1;33m\u001b[0m\u001b[0m\n\u001b[0;32m      2\u001b[0m \u001b[0mc\u001b[0m \u001b[1;33m=\u001b[0m \u001b[1;36m2667650\u001b[0m\u001b[1;33m\u001b[0m\u001b[1;33m\u001b[0m\u001b[0m\n\u001b[1;32m----> 3\u001b[1;33m \u001b[0mconsume\u001b[0m\u001b[1;33m(\u001b[0m\u001b[0mit\u001b[0m\u001b[1;33m,\u001b[0m \u001b[0mpicks\u001b[0m\u001b[1;33m[\u001b[0m\u001b[0mc\u001b[0m\u001b[1;33m]\u001b[0m\u001b[1;33m)\u001b[0m\u001b[1;33m\u001b[0m\u001b[1;33m\u001b[0m\u001b[0m\n\u001b[0m\u001b[0;32m      4\u001b[0m \u001b[1;32mtry\u001b[0m\u001b[1;33m:\u001b[0m\u001b[1;33m\u001b[0m\u001b[1;33m\u001b[0m\u001b[0m\n\u001b[0;32m      5\u001b[0m     \u001b[1;32mfor\u001b[0m \u001b[0mi\u001b[0m\u001b[1;33m,\u001b[0m \u001b[0me\u001b[0m \u001b[1;32min\u001b[0m \u001b[0mit\u001b[0m\u001b[1;33m:\u001b[0m\u001b[1;33m\u001b[0m\u001b[1;33m\u001b[0m\u001b[0m\n",
      "\u001b[1;32m<ipython-input-3-b2f32f7a84df>\u001b[0m in \u001b[0;36mconsume\u001b[1;34m(iterator, n)\u001b[0m\n\u001b[0;32m      7\u001b[0m     \u001b[1;32melse\u001b[0m\u001b[1;33m:\u001b[0m\u001b[1;33m\u001b[0m\u001b[1;33m\u001b[0m\u001b[0m\n\u001b[0;32m      8\u001b[0m         \u001b[1;31m# advance to the empty slice starting at position n\u001b[0m\u001b[1;33m\u001b[0m\u001b[1;33m\u001b[0m\u001b[1;33m\u001b[0m\u001b[0m\n\u001b[1;32m----> 9\u001b[1;33m         \u001b[0mnext\u001b[0m\u001b[1;33m(\u001b[0m\u001b[0mislice\u001b[0m\u001b[1;33m(\u001b[0m\u001b[0miterator\u001b[0m\u001b[1;33m,\u001b[0m \u001b[0mn\u001b[0m\u001b[1;33m,\u001b[0m \u001b[0mn\u001b[0m\u001b[1;33m)\u001b[0m\u001b[1;33m,\u001b[0m \u001b[1;32mNone\u001b[0m\u001b[1;33m)\u001b[0m\u001b[1;33m\u001b[0m\u001b[1;33m\u001b[0m\u001b[0m\n\u001b[0m",
      "\u001b[1;32m~\\Anaconda3\\lib\\site-packages\\qwikidata\\json_dump.py\u001b[0m in \u001b[0;36m__iter__\u001b[1;34m(self)\u001b[0m\n\u001b[0;32m     70\u001b[0m     \u001b[1;32mdef\u001b[0m \u001b[0m__iter__\u001b[0m\u001b[1;33m(\u001b[0m\u001b[0mself\u001b[0m\u001b[1;33m)\u001b[0m \u001b[1;33m->\u001b[0m \u001b[0mIterator\u001b[0m\u001b[1;33m[\u001b[0m\u001b[0mDict\u001b[0m\u001b[1;33m]\u001b[0m\u001b[1;33m:\u001b[0m\u001b[1;33m\u001b[0m\u001b[1;33m\u001b[0m\u001b[0m\n\u001b[0;32m     71\u001b[0m         \u001b[1;34m\"\"\"Iterate over lines in the file.\"\"\"\u001b[0m\u001b[1;33m\u001b[0m\u001b[1;33m\u001b[0m\u001b[0m\n\u001b[1;32m---> 72\u001b[1;33m         \u001b[1;32mfor\u001b[0m \u001b[0mline_str\u001b[0m \u001b[1;32min\u001b[0m \u001b[0mself\u001b[0m\u001b[1;33m.\u001b[0m\u001b[0miter_lines\u001b[0m\u001b[1;33m(\u001b[0m\u001b[1;33m)\u001b[0m\u001b[1;33m:\u001b[0m\u001b[1;33m\u001b[0m\u001b[1;33m\u001b[0m\u001b[0m\n\u001b[0m\u001b[0;32m     73\u001b[0m             \u001b[0mline_str\u001b[0m \u001b[1;33m=\u001b[0m \u001b[0mline_str\u001b[0m\u001b[1;33m.\u001b[0m\u001b[0mrstrip\u001b[0m\u001b[1;33m(\u001b[0m\u001b[1;34m\",\\n\"\u001b[0m\u001b[1;33m)\u001b[0m\u001b[1;33m\u001b[0m\u001b[1;33m\u001b[0m\u001b[0m\n\u001b[0;32m     74\u001b[0m             \u001b[1;31m# first and last lines are opening and closing brackets\u001b[0m\u001b[1;33m\u001b[0m\u001b[1;33m\u001b[0m\u001b[1;33m\u001b[0m\u001b[0m\n",
      "\u001b[1;32m~\\Anaconda3\\lib\\site-packages\\qwikidata\\json_dump.py\u001b[0m in \u001b[0;36miter_lines\u001b[1;34m(self)\u001b[0m\n\u001b[0;32m     65\u001b[0m         \u001b[1;34m\"\"\"Generate lines from JSON dump file.\"\"\"\u001b[0m\u001b[1;33m\u001b[0m\u001b[1;33m\u001b[0m\u001b[0m\n\u001b[0;32m     66\u001b[0m         \u001b[1;32mwith\u001b[0m \u001b[0mself\u001b[0m\u001b[1;33m.\u001b[0m\u001b[0m_open_dump_file\u001b[0m\u001b[1;33m(\u001b[0m\u001b[1;33m)\u001b[0m \u001b[1;32mas\u001b[0m \u001b[0mfp\u001b[0m\u001b[1;33m:\u001b[0m\u001b[1;33m\u001b[0m\u001b[1;33m\u001b[0m\u001b[0m\n\u001b[1;32m---> 67\u001b[1;33m             \u001b[1;32mfor\u001b[0m \u001b[0mlinebytes\u001b[0m \u001b[1;32min\u001b[0m \u001b[0mfp\u001b[0m\u001b[1;33m:\u001b[0m\u001b[1;33m\u001b[0m\u001b[1;33m\u001b[0m\u001b[0m\n\u001b[0m\u001b[0;32m     68\u001b[0m                 \u001b[1;32myield\u001b[0m \u001b[0mlinebytes\u001b[0m\u001b[1;33m.\u001b[0m\u001b[0mdecode\u001b[0m\u001b[1;33m(\u001b[0m\u001b[1;34m\"utf-8\"\u001b[0m\u001b[1;33m)\u001b[0m\u001b[1;33m\u001b[0m\u001b[1;33m\u001b[0m\u001b[0m\n\u001b[0;32m     69\u001b[0m \u001b[1;33m\u001b[0m\u001b[0m\n",
      "\u001b[1;32m~\\Anaconda3\\lib\\bz2.py\u001b[0m in \u001b[0;36mreadline\u001b[1;34m(self, size)\u001b[0m\n\u001b[0;32m    213\u001b[0m         \u001b[1;32mwith\u001b[0m \u001b[0mself\u001b[0m\u001b[1;33m.\u001b[0m\u001b[0m_lock\u001b[0m\u001b[1;33m:\u001b[0m\u001b[1;33m\u001b[0m\u001b[1;33m\u001b[0m\u001b[0m\n\u001b[0;32m    214\u001b[0m             \u001b[0mself\u001b[0m\u001b[1;33m.\u001b[0m\u001b[0m_check_can_read\u001b[0m\u001b[1;33m(\u001b[0m\u001b[1;33m)\u001b[0m\u001b[1;33m\u001b[0m\u001b[1;33m\u001b[0m\u001b[0m\n\u001b[1;32m--> 215\u001b[1;33m             \u001b[1;32mreturn\u001b[0m \u001b[0mself\u001b[0m\u001b[1;33m.\u001b[0m\u001b[0m_buffer\u001b[0m\u001b[1;33m.\u001b[0m\u001b[0mreadline\u001b[0m\u001b[1;33m(\u001b[0m\u001b[0msize\u001b[0m\u001b[1;33m)\u001b[0m\u001b[1;33m\u001b[0m\u001b[1;33m\u001b[0m\u001b[0m\n\u001b[0m\u001b[0;32m    216\u001b[0m \u001b[1;33m\u001b[0m\u001b[0m\n\u001b[0;32m    217\u001b[0m     \u001b[1;32mdef\u001b[0m \u001b[0mreadlines\u001b[0m\u001b[1;33m(\u001b[0m\u001b[0mself\u001b[0m\u001b[1;33m,\u001b[0m \u001b[0msize\u001b[0m\u001b[1;33m=\u001b[0m\u001b[1;33m-\u001b[0m\u001b[1;36m1\u001b[0m\u001b[1;33m)\u001b[0m\u001b[1;33m:\u001b[0m\u001b[1;33m\u001b[0m\u001b[1;33m\u001b[0m\u001b[0m\n",
      "\u001b[1;32m~\\Anaconda3\\lib\\_compression.py\u001b[0m in \u001b[0;36mreadinto\u001b[1;34m(self, b)\u001b[0m\n\u001b[0;32m     66\u001b[0m     \u001b[1;32mdef\u001b[0m \u001b[0mreadinto\u001b[0m\u001b[1;33m(\u001b[0m\u001b[0mself\u001b[0m\u001b[1;33m,\u001b[0m \u001b[0mb\u001b[0m\u001b[1;33m)\u001b[0m\u001b[1;33m:\u001b[0m\u001b[1;33m\u001b[0m\u001b[1;33m\u001b[0m\u001b[0m\n\u001b[0;32m     67\u001b[0m         \u001b[1;32mwith\u001b[0m \u001b[0mmemoryview\u001b[0m\u001b[1;33m(\u001b[0m\u001b[0mb\u001b[0m\u001b[1;33m)\u001b[0m \u001b[1;32mas\u001b[0m \u001b[0mview\u001b[0m\u001b[1;33m,\u001b[0m \u001b[0mview\u001b[0m\u001b[1;33m.\u001b[0m\u001b[0mcast\u001b[0m\u001b[1;33m(\u001b[0m\u001b[1;34m\"B\"\u001b[0m\u001b[1;33m)\u001b[0m \u001b[1;32mas\u001b[0m \u001b[0mbyte_view\u001b[0m\u001b[1;33m:\u001b[0m\u001b[1;33m\u001b[0m\u001b[1;33m\u001b[0m\u001b[0m\n\u001b[1;32m---> 68\u001b[1;33m             \u001b[0mdata\u001b[0m \u001b[1;33m=\u001b[0m \u001b[0mself\u001b[0m\u001b[1;33m.\u001b[0m\u001b[0mread\u001b[0m\u001b[1;33m(\u001b[0m\u001b[0mlen\u001b[0m\u001b[1;33m(\u001b[0m\u001b[0mbyte_view\u001b[0m\u001b[1;33m)\u001b[0m\u001b[1;33m)\u001b[0m\u001b[1;33m\u001b[0m\u001b[1;33m\u001b[0m\u001b[0m\n\u001b[0m\u001b[0;32m     69\u001b[0m             \u001b[0mbyte_view\u001b[0m\u001b[1;33m[\u001b[0m\u001b[1;33m:\u001b[0m\u001b[0mlen\u001b[0m\u001b[1;33m(\u001b[0m\u001b[0mdata\u001b[0m\u001b[1;33m)\u001b[0m\u001b[1;33m]\u001b[0m \u001b[1;33m=\u001b[0m \u001b[0mdata\u001b[0m\u001b[1;33m\u001b[0m\u001b[1;33m\u001b[0m\u001b[0m\n\u001b[0;32m     70\u001b[0m         \u001b[1;32mreturn\u001b[0m \u001b[0mlen\u001b[0m\u001b[1;33m(\u001b[0m\u001b[0mdata\u001b[0m\u001b[1;33m)\u001b[0m\u001b[1;33m\u001b[0m\u001b[1;33m\u001b[0m\u001b[0m\n",
      "\u001b[1;32m~\\Anaconda3\\lib\\_compression.py\u001b[0m in \u001b[0;36mread\u001b[1;34m(self, size)\u001b[0m\n\u001b[0;32m    101\u001b[0m                 \u001b[1;32melse\u001b[0m\u001b[1;33m:\u001b[0m\u001b[1;33m\u001b[0m\u001b[1;33m\u001b[0m\u001b[0m\n\u001b[0;32m    102\u001b[0m                     \u001b[0mrawblock\u001b[0m \u001b[1;33m=\u001b[0m \u001b[1;34mb\"\"\u001b[0m\u001b[1;33m\u001b[0m\u001b[1;33m\u001b[0m\u001b[0m\n\u001b[1;32m--> 103\u001b[1;33m                 \u001b[0mdata\u001b[0m \u001b[1;33m=\u001b[0m \u001b[0mself\u001b[0m\u001b[1;33m.\u001b[0m\u001b[0m_decompressor\u001b[0m\u001b[1;33m.\u001b[0m\u001b[0mdecompress\u001b[0m\u001b[1;33m(\u001b[0m\u001b[0mrawblock\u001b[0m\u001b[1;33m,\u001b[0m \u001b[0msize\u001b[0m\u001b[1;33m)\u001b[0m\u001b[1;33m\u001b[0m\u001b[1;33m\u001b[0m\u001b[0m\n\u001b[0m\u001b[0;32m    104\u001b[0m             \u001b[1;32mif\u001b[0m \u001b[0mdata\u001b[0m\u001b[1;33m:\u001b[0m\u001b[1;33m\u001b[0m\u001b[1;33m\u001b[0m\u001b[0m\n\u001b[0;32m    105\u001b[0m                 \u001b[1;32mbreak\u001b[0m\u001b[1;33m\u001b[0m\u001b[1;33m\u001b[0m\u001b[0m\n",
      "\u001b[1;31mKeyboardInterrupt\u001b[0m: "
     ]
    }
   ],
   "source": [
    "f = bz2.open('data/latest-all.json.bz2', mode=\"rb\")\n",
    "savepoint = 0\n",
    "c = 0\n",
    "f.seek(savepoint)\n",
    "consume(f, picks[c])\n",
    "try:\n",
    "    for i, linebytes in enumerate(f):\n",
    "        line_str = linebytes.decode(\"utf-8\")\n",
    "        line_str = line_str.rstrip(\",\\n\")\n",
    "        if line_str in [\"[\", \"]\"]:\n",
    "            continue\n",
    "        print(i-1,json.loads(line_str)['id'])\n",
    "        c += 1\n",
    "        print(str(c/77175441*100)+'%'+20*' ',end='\\r')\n",
    "        get_reference_to_sqlite(e)\n",
    "        if c == len(picks):\n",
    "            break\n",
    "        else:\n",
    "            consume(it, picks[c] - picks[c-1] - 1)\n",
    "except Exception as err:\n",
    "    print(err)\n",
    "    print(e['id'],claim['mainsnak']['property'],claim['id'],claim['rank'],ref['hash'],ref_prop_id,j,snak['snaktype'],snak['datatype'],str(snak['datavalue']['value']))\n",
    "finally:\n",
    "    sql_db.commit()\n",
    "savepoint = f.tell()\n",
    "print('\\n'+str(savepoint)+' ; '+str(c))\n",
    "f.close()"
   ]
  }
 ],
 "metadata": {
  "kernelspec": {
   "display_name": "Python 3",
   "language": "python",
   "name": "python3"
  },
  "language_info": {
   "codemirror_mode": {
    "name": "ipython",
    "version": 3
   },
   "file_extension": ".py",
   "mimetype": "text/x-python",
   "name": "python",
   "nbconvert_exporter": "python",
   "pygments_lexer": "ipython3",
   "version": "3.7.4"
  }
 },
 "nbformat": 4,
 "nbformat_minor": 2
}

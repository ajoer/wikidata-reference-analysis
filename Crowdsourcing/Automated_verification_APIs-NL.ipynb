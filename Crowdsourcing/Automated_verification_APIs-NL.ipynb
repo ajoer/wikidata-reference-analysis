{
 "cells": [
  {
   "cell_type": "code",
   "execution_count": 1,
   "metadata": {},
   "outputs": [],
   "source": [
    "import pandas as pd\n",
    "import json\n",
    "import numpy as np\n",
    "import requests\n",
    "import urllib\n",
    "from urllib.parse import urlparse\n",
    "import matplotlib.pyplot as plt\n",
    "import seaborn as sns\n",
    "import ast\n",
    "import textdistance\n",
    "import string\n",
    "import re\n",
    "from dateutil import parser\n",
    "import time\n",
    "import unidecode\n",
    "from googletrans import Translator"
   ]
  },
  {
   "cell_type": "code",
   "execution_count": 2,
   "metadata": {},
   "outputs": [
    {
     "data": {
      "text/plain": [
       "(340, 10)"
      ]
     },
     "execution_count": 2,
     "metadata": {},
     "output_type": "execute_result"
    }
   ],
   "source": [
    "with open('data/final/sampled_references_nl.json','r',encoding='utf-8') as f:\n",
    "    json_nl = json.load(f)\n",
    "    df = pd.DataFrame(json_nl)\n",
    "df['verified'] = False\n",
    "df.shape"
   ]
  },
  {
   "cell_type": "code",
   "execution_count": 3,
   "metadata": {},
   "outputs": [],
   "source": [
    "def norm_string(s):\n",
    "    #return s.lower().translate(str.maketrans('', '', string.punctuation))\n",
    "    return re.sub('\\W+','', s).lower()\n",
    "\n",
    "def compare(s1,s2):\n",
    "    s1 = unidecode.unidecode(norm_string(s1))\n",
    "    s2 = unidecode.unidecode(norm_string(s2))\n",
    "    return textdistance.levenshtein.normalized_similarity(s1,s2)"
   ]
  },
  {
   "cell_type": "markdown",
   "metadata": {},
   "source": [
    "## We check the netlocs to see what checks can be automatized"
   ]
  },
  {
   "cell_type": "code",
   "execution_count": 4,
   "metadata": {},
   "outputs": [
    {
     "data": {
      "text/html": [
       "<div>\n",
       "<style scoped>\n",
       "    .dataframe tbody tr th:only-of-type {\n",
       "        vertical-align: middle;\n",
       "    }\n",
       "\n",
       "    .dataframe tbody tr th {\n",
       "        vertical-align: top;\n",
       "    }\n",
       "\n",
       "    .dataframe thead th {\n",
       "        text-align: right;\n",
       "    }\n",
       "</style>\n",
       "<table border=\"1\" class=\"dataframe\">\n",
       "  <thead>\n",
       "    <tr style=\"text-align: right;\">\n",
       "      <th></th>\n",
       "      <th>index</th>\n",
       "      <th>netloc</th>\n",
       "    </tr>\n",
       "  </thead>\n",
       "  <tbody>\n",
       "    <tr>\n",
       "      <th>0</th>\n",
       "      <td>rkd.nl</td>\n",
       "      <td>95</td>\n",
       "    </tr>\n",
       "    <tr>\n",
       "      <th>1</th>\n",
       "      <td>data.collectienederland.nl</td>\n",
       "      <td>31</td>\n",
       "    </tr>\n",
       "    <tr>\n",
       "      <th>2</th>\n",
       "      <td>cultureelerfgoed.nl</td>\n",
       "      <td>21</td>\n",
       "    </tr>\n",
       "    <tr>\n",
       "      <th>3</th>\n",
       "      <td>www.biografischportaal.nl</td>\n",
       "      <td>18</td>\n",
       "    </tr>\n",
       "    <tr>\n",
       "      <th>4</th>\n",
       "      <td>www.ebi.ac.uk</td>\n",
       "      <td>16</td>\n",
       "    </tr>\n",
       "    <tr>\n",
       "      <th>5</th>\n",
       "      <td>mskgent.be</td>\n",
       "      <td>15</td>\n",
       "    </tr>\n",
       "    <tr>\n",
       "      <th>6</th>\n",
       "      <td>data.kunsten.be</td>\n",
       "      <td>12</td>\n",
       "    </tr>\n",
       "    <tr>\n",
       "      <th>7</th>\n",
       "      <td>viaf.org</td>\n",
       "      <td>12</td>\n",
       "    </tr>\n",
       "    <tr>\n",
       "      <th>8</th>\n",
       "      <td>nl.wikipedia.org</td>\n",
       "      <td>11</td>\n",
       "    </tr>\n",
       "    <tr>\n",
       "      <th>9</th>\n",
       "      <td>collectie.boijmans.nl</td>\n",
       "      <td>8</td>\n",
       "    </tr>\n",
       "    <tr>\n",
       "      <th>10</th>\n",
       "      <td>www.rijksmuseum.nl</td>\n",
       "      <td>8</td>\n",
       "    </tr>\n",
       "    <tr>\n",
       "      <th>11</th>\n",
       "      <td>www.archiefbank.be</td>\n",
       "      <td>6</td>\n",
       "    </tr>\n",
       "    <tr>\n",
       "      <th>12</th>\n",
       "      <td>www.dwc.knaw.nl</td>\n",
       "      <td>6</td>\n",
       "    </tr>\n",
       "    <tr>\n",
       "      <th>13</th>\n",
       "      <td>am.adlibhosting.com</td>\n",
       "      <td>6</td>\n",
       "    </tr>\n",
       "    <tr>\n",
       "      <th>14</th>\n",
       "      <td>hoogleraren.leidenuniv.nl</td>\n",
       "      <td>5</td>\n",
       "    </tr>\n",
       "    <tr>\n",
       "      <th>15</th>\n",
       "      <td>groeningemuseum.be</td>\n",
       "      <td>5</td>\n",
       "    </tr>\n",
       "    <tr>\n",
       "      <th>16</th>\n",
       "      <td>albumacademicum.uva.nl</td>\n",
       "      <td>5</td>\n",
       "    </tr>\n",
       "    <tr>\n",
       "      <th>17</th>\n",
       "      <td>mleuven.be</td>\n",
       "      <td>5</td>\n",
       "    </tr>\n",
       "    <tr>\n",
       "      <th>18</th>\n",
       "      <td>arthub.vlaamsekunstcollectie.be</td>\n",
       "      <td>4</td>\n",
       "    </tr>\n",
       "    <tr>\n",
       "      <th>19</th>\n",
       "      <td>collectie.groningermuseum.nl</td>\n",
       "      <td>3</td>\n",
       "    </tr>\n",
       "  </tbody>\n",
       "</table>\n",
       "</div>"
      ],
      "text/plain": [
       "                              index  netloc\n",
       "0                            rkd.nl      95\n",
       "1        data.collectienederland.nl      31\n",
       "2               cultureelerfgoed.nl      21\n",
       "3         www.biografischportaal.nl      18\n",
       "4                     www.ebi.ac.uk      16\n",
       "5                        mskgent.be      15\n",
       "6                   data.kunsten.be      12\n",
       "7                          viaf.org      12\n",
       "8                  nl.wikipedia.org      11\n",
       "9             collectie.boijmans.nl       8\n",
       "10               www.rijksmuseum.nl       8\n",
       "11               www.archiefbank.be       6\n",
       "12                  www.dwc.knaw.nl       6\n",
       "13              am.adlibhosting.com       6\n",
       "14        hoogleraren.leidenuniv.nl       5\n",
       "15               groeningemuseum.be       5\n",
       "16           albumacademicum.uva.nl       5\n",
       "17                       mleuven.be       5\n",
       "18  arthub.vlaamsekunstcollectie.be       4\n",
       "19     collectie.groningermuseum.nl       3"
      ]
     },
     "execution_count": 4,
     "metadata": {},
     "output_type": "execute_result"
    }
   ],
   "source": [
    "urlparse_df = df['url'].transform(urlparse)\n",
    "urlparse_df = pd.DataFrame(urlparse_df.tolist(), index=urlparse_df.index)\n",
    "df[['scheme','netloc','path','params','query','fragment']] = urlparse_df\n",
    "pd.DataFrame(df['netloc'].value_counts()).reset_index().head(20)"
   ]
  },
  {
   "cell_type": "code",
   "execution_count": 5,
   "metadata": {},
   "outputs": [
    {
     "data": {
      "image/png": "[encoded data removed]",
      "text/plain": [
       "<Figure size 360x720 with 1 Axes>"
      ]
     },
     "metadata": {
      "needs_background": "light"
     },
     "output_type": "display_data"
    }
   ],
   "source": [
    "fig, ax = plt.subplots(1,1,figsize=(5,10))\n",
    "sns.barplot(data = pd.DataFrame(df['netloc'].value_counts()).reset_index(),\n",
    "           y = 'index',x='netloc', ax=ax)\n",
    "plt.show()"
   ]
  },
  {
   "cell_type": "markdown",
   "metadata": {},
   "source": [
    "## www.ebi.ac.uk\n",
    "We see here that there are many types of predicates, but automating these many checks may be done.\n",
    "\n",
    "Some here have the path for the api, some do not. We can only check those directed at the API, so we filter them. The ones filtered out are protein and gene databases which we'll check later."
   ]
  },
  {
   "cell_type": "markdown",
   "metadata": {},
   "source": [
    "### Article API"
   ]
  },
  {
   "cell_type": "code",
   "execution_count": 6,
   "metadata": {},
   "outputs": [
    {
     "data": {
      "text/plain": [
       "(gepubliceerd in            4\n",
       " auteur (als tekenreeks)    3\n",
       " uitgave                    2\n",
       " datum van uitgave          2\n",
       " pagina                     2\n",
       " volume                     2\n",
       " is een                     1\n",
       " Name: predicate, dtype: int64,\n",
       " 16)"
      ]
     },
     "execution_count": 6,
     "metadata": {},
     "output_type": "execute_result"
    }
   ],
   "source": [
    "df_ebi = df[df['netloc'] == 'www.ebi.ac.uk']\n",
    "df_ebi_api = df_ebi[df_ebi['path'] == '/europepmc/webservices/rest/search']\n",
    "df_ebi_api['predicate'].value_counts(), df_ebi_api.shape[0]"
   ]
  },
  {
   "cell_type": "code",
   "execution_count": 7,
   "metadata": {},
   "outputs": [
    {
     "name": "stdout",
     "output_type": "stream",
     "text": [
      "[Determinants of the\n",
      "[Determinants of the (ir)regularity of dental attendance]\n",
      "93.75% are confirmed\n"
     ]
    },
    {
     "data": {
      "text/html": [
       "<div>\n",
       "<style scoped>\n",
       "    .dataframe tbody tr th:only-of-type {\n",
       "        vertical-align: middle;\n",
       "    }\n",
       "\n",
       "    .dataframe tbody tr th {\n",
       "        vertical-align: top;\n",
       "    }\n",
       "\n",
       "    .dataframe thead th {\n",
       "        text-align: right;\n",
       "    }\n",
       "</style>\n",
       "<table border=\"1\" class=\"dataframe\">\n",
       "  <thead>\n",
       "    <tr style=\"text-align: right;\">\n",
       "      <th></th>\n",
       "      <th>reference_id</th>\n",
       "      <th>url</th>\n",
       "      <th>ref_node_pairs</th>\n",
       "      <th>language_crawl</th>\n",
       "      <th>statement_node</th>\n",
       "      <th>subject</th>\n",
       "      <th>predicate</th>\n",
       "      <th>object</th>\n",
       "      <th>g_id</th>\n",
       "      <th>verified</th>\n",
       "      <th>scheme</th>\n",
       "      <th>netloc</th>\n",
       "      <th>path</th>\n",
       "      <th>params</th>\n",
       "      <th>query</th>\n",
       "      <th>fragment</th>\n",
       "    </tr>\n",
       "  </thead>\n",
       "  <tbody>\n",
       "    <tr>\n",
       "      <th>268</th>\n",
       "      <td>09c8d86082798b44509161c50bb5efb7f4a6b070</td>\n",
       "      <td>https://www.ebi.ac.uk/europepmc/webservices/re...</td>\n",
       "      <td>{'stated in': 'wikibase-item:&gt;Europe PubMed Ce...</td>\n",
       "      <td>nl</td>\n",
       "      <td>Q69843859-D56E628C-9693-4E5B-9412-843C1FFEC7DC</td>\n",
       "      <td>[Determinants of the</td>\n",
       "      <td>auteur (als tekenreeks)</td>\n",
       "      <td>Schuurs AH</td>\n",
       "      <td>0</td>\n",
       "      <td>False</td>\n",
       "      <td>https</td>\n",
       "      <td>www.ebi.ac.uk</td>\n",
       "      <td>/europepmc/webservices/rest/search</td>\n",
       "      <td></td>\n",
       "      <td>query=EXT_ID:3861956%20AND%20SRC:MED&amp;resulttyp...</td>\n",
       "      <td></td>\n",
       "    </tr>\n",
       "  </tbody>\n",
       "</table>\n",
       "</div>"
      ],
      "text/plain": [
       "                                 reference_id  \\\n",
       "268  09c8d86082798b44509161c50bb5efb7f4a6b070   \n",
       "\n",
       "                                                   url  \\\n",
       "268  https://www.ebi.ac.uk/europepmc/webservices/re...   \n",
       "\n",
       "                                        ref_node_pairs language_crawl  \\\n",
       "268  {'stated in': 'wikibase-item:>Europe PubMed Ce...             nl   \n",
       "\n",
       "                                     statement_node               subject  \\\n",
       "268  Q69843859-D56E628C-9693-4E5B-9412-843C1FFEC7DC  [Determinants of the   \n",
       "\n",
       "                   predicate      object  g_id  verified scheme  \\\n",
       "268  auteur (als tekenreeks)  Schuurs AH     0     False  https   \n",
       "\n",
       "            netloc                                path params  \\\n",
       "268  www.ebi.ac.uk  /europepmc/webservices/rest/search          \n",
       "\n",
       "                                                 query fragment  \n",
       "268  query=EXT_ID:3861956%20AND%20SRC:MED&resulttyp...           "
      ]
     },
     "execution_count": 7,
     "metadata": {},
     "output_type": "execute_result"
    }
   ],
   "source": [
    "def verify_ebi_api(row, verbose=True):\n",
    "#for i, row in df_en_ebi_api.iterrows():\n",
    "    found = False\n",
    "    subject = row['subject']\n",
    "    obj = row['object']\n",
    "    predicate = row['predicate']\n",
    "    d = requests.get(row['url']).json()['resultList']['result']\n",
    "    \n",
    "    if compare(subject, d[0]['title']) < 0.9:\n",
    "        if verbose:\n",
    "            print(subject)\n",
    "            print(d[0]['title'])\n",
    "        #break\n",
    "        return found\n",
    "    if predicate == 'is een':\n",
    "        value = d[0]['pubTypeList']['pubType']\n",
    "        if obj == 'wetenschappelijk artikel' \\\n",
    "            and 'Journal Article' in value \\\n",
    "            or 'Case Reports' in value \\\n",
    "            or 'Editorial' in value \\\n",
    "            or 'Letter' in value:\n",
    "            found = True            \n",
    "    elif predicate == 'datum van uitgave':\n",
    "        value = d[0]['firstPublicationDate']\n",
    "        if parser.parse(obj).date() == parser.parse(value).date():\n",
    "            found = True\n",
    "    elif predicate == 'gepubliceerd in':\n",
    "        obj = obj.replace('The BMJ','British medical journal')\n",
    "        value = d[0]['journalInfo']['journal']['title']\n",
    "        value = value.split(' = ')\n",
    "        for v in value:\n",
    "            if compare(obj, v) >= 0.6:\n",
    "                found = True\n",
    "    elif predicate == 'DOI':\n",
    "        value = d[0]['doi']\n",
    "        if compare(obj, value) >= 0.99:\n",
    "            found = True\n",
    "    elif predicate == 'auteur (als tekenreeks)':\n",
    "        value = d[0]['authorList']['author']\n",
    "        for author in value:\n",
    "            #if 'fullName' in author:\n",
    "            #    print('Full name:',author['fullName'])\n",
    "            #if 'firstName' in author:\n",
    "            #    print('First and last names:',author['firstName'] + ' ' + author['lastName'])\n",
    "            #print(obj)\n",
    "            if 'fullName' in author and compare(obj, author['fullName']) >= 0.99:\n",
    "                found = True\n",
    "            elif 'firstName' in author and compare(obj, author['firstName'] + ' ' + author['lastName']) >= 0.99:\n",
    "                found = True\n",
    "    elif predicate == 'volume':\n",
    "        value = d[0]['journalInfo']['volume']\n",
    "        if value == obj:\n",
    "            found = True\n",
    "    elif predicate == 'pagina':\n",
    "        value = d[0]['pageInfo']\n",
    "        if value == obj:\n",
    "            found = True\n",
    "    elif predicate == 'uitgave':\n",
    "        value = d[0]['journalInfo']['issue']\n",
    "        if value == obj:\n",
    "            found = True\n",
    "    elif predicate == 'PubMed ID':\n",
    "        value = d[0]['id']\n",
    "        if value == obj:\n",
    "            found = True\n",
    "    #elif predicate == 'author':\n",
    "    #    value = d[0]['authorList']['author']\n",
    "    elif predicate == 'titel':\n",
    "        value = d[0]['title']\n",
    "        if compare(obj, d[0]['title']) >= 0.9:\n",
    "            found = True\n",
    "    elif predicate == 'PMCID':\n",
    "        value = d[0]['pmcid']\n",
    "        if ('PMC'+obj) == value:\n",
    "            found = True\n",
    "    if not found and verbose:\n",
    "        print(predicate)\n",
    "        print(obj)\n",
    "        print(value)\n",
    "        #break\n",
    "    return found\n",
    "\n",
    "df_ebi_api_verified = df_ebi_api.apply(verify_ebi_api,axis=1)\n",
    "print('{}% are confirmed'.format(100*df_ebi_api_verified.sum()/len(df_ebi_api_verified)))\n",
    "\n",
    "# Mark them in the original df so that we don't crowdsource them\n",
    "for i in df_ebi_api.index:\n",
    "    df.loc[i,'verified'] = True\n",
    "    \n",
    "# Those not verified\n",
    "df_ebi_api[df_ebi_api_verified == False]"
   ]
  },
  {
   "cell_type": "markdown",
   "metadata": {},
   "source": [
    "## viaf.org"
   ]
  },
  {
   "cell_type": "code",
   "execution_count": 8,
   "metadata": {},
   "outputs": [
    {
     "data": {
      "text/plain": [
       "WorldCat Identities-identificatiecode    7\n",
       "NTA-identificatiecode                    4\n",
       "NKC-identificatiecode                    1\n",
       "Name: predicate, dtype: int64"
      ]
     },
     "execution_count": 8,
     "metadata": {},
     "output_type": "execute_result"
    }
   ],
   "source": [
    "df_viaf = df[df['netloc'] == 'viaf.org']\n",
    "df_viaf['predicate'].value_counts()"
   ]
  },
  {
   "cell_type": "code",
   "execution_count": 9,
   "metadata": {},
   "outputs": [
    {
     "name": "stdout",
     "output_type": "stream",
     "text": [
      "100.0% are confirmed\n"
     ]
    },
    {
     "data": {
      "text/html": [
       "<div>\n",
       "<style scoped>\n",
       "    .dataframe tbody tr th:only-of-type {\n",
       "        vertical-align: middle;\n",
       "    }\n",
       "\n",
       "    .dataframe tbody tr th {\n",
       "        vertical-align: top;\n",
       "    }\n",
       "\n",
       "    .dataframe thead th {\n",
       "        text-align: right;\n",
       "    }\n",
       "</style>\n",
       "<table border=\"1\" class=\"dataframe\">\n",
       "  <thead>\n",
       "    <tr style=\"text-align: right;\">\n",
       "      <th></th>\n",
       "      <th>reference_id</th>\n",
       "      <th>url</th>\n",
       "      <th>ref_node_pairs</th>\n",
       "      <th>language_crawl</th>\n",
       "      <th>statement_node</th>\n",
       "      <th>subject</th>\n",
       "      <th>predicate</th>\n",
       "      <th>object</th>\n",
       "      <th>g_id</th>\n",
       "      <th>verified</th>\n",
       "      <th>scheme</th>\n",
       "      <th>netloc</th>\n",
       "      <th>path</th>\n",
       "      <th>params</th>\n",
       "      <th>query</th>\n",
       "      <th>fragment</th>\n",
       "    </tr>\n",
       "  </thead>\n",
       "  <tbody>\n",
       "  </tbody>\n",
       "</table>\n",
       "</div>"
      ],
      "text/plain": [
       "Empty DataFrame\n",
       "Columns: [reference_id, url, ref_node_pairs, language_crawl, statement_node, subject, predicate, object, g_id, verified, scheme, netloc, path, params, query, fragment]\n",
       "Index: []"
      ]
     },
     "execution_count": 9,
     "metadata": {},
     "output_type": "execute_result"
    }
   ],
   "source": [
    "def verify_viaf(row, verbose=True):\n",
    "#verbose = True\n",
    "#for i, row in df_en_pubmed.iterrows():\n",
    "    found = False\n",
    "    subject = row['subject']\n",
    "    obj = row['object']\n",
    "    predicate = row['predicate']\n",
    "    \n",
    "    viaf_id = row['url'].split('/')[-1]\n",
    "    \n",
    "    while 1:\n",
    "        url = 'http://www.viaf.org/viaf/{}/viaf.json'.format(viaf_id)\n",
    "        resp = requests.get(url)\n",
    "        if resp.status_code == 502:\n",
    "            continue\n",
    "        else:\n",
    "            break\n",
    "    try:\n",
    "        d = resp.json()\n",
    "    except Exception:\n",
    "        print(url)\n",
    "        print(resp)\n",
    "        return False\n",
    "    try:\n",
    "        if type(d['mainHeadings']['data']) is not list:\n",
    "            d['mainHeadings']['data']= [d['mainHeadings']['data']]\n",
    "        names = [name['text'] for name in d['mainHeadings']['data']]\n",
    "        for to_add in ['mainHeadings/mainHeadingEl','x400s/x400','x500s/x500']:\n",
    "            to_add = to_add.split('/')\n",
    "            if to_add[0] in d:\n",
    "                if type(d[to_add[0]][to_add[1]]) != list:\n",
    "                    d[to_add[0]][to_add[1]] = [d[to_add[0]][to_add[1]]]\n",
    "                names_i = [i['datafield']['subfield'] for i in d[to_add[0]][to_add[1]]]\n",
    "                names_i = [n if type(n) == list else [n] for n in names_i]\n",
    "                names_i = [item['#text'] for sublist in names_i for item in sublist]\n",
    "                names += names_i\n",
    "    except Exception:\n",
    "        print(url)\n",
    "        print(d)\n",
    "        raise\n",
    "\n",
    "    if all([compare(subject,name) < 0.9 for name in names]) and subject not in ['Willem van Haecht']:\n",
    "        if verbose:\n",
    "            print(url)\n",
    "            print(subject)\n",
    "            print(names)\n",
    "        #break\n",
    "        return found\n",
    "    \n",
    "    non_flat_ids = [[s] if type(s) != list else s for s in [s['sources']['sid'] for s in d['mainHeadings']['data']]]\n",
    "    flat_ids = [item for sublist in non_flat_ids for item in sublist]\n",
    "    if 'xLinks' in d:\n",
    "        xLinks = [i if type(i) == str else i['#text'] for i in d['xLinks']['xLink']] if type(d['xLinks']['xLink']) == list else d['xLinks']['xLink']\n",
    "        if type(xLinks) != list:\n",
    "            xLinks = [xLinks]\n",
    "            \n",
    "    if predicate == 'BNF ID':\n",
    "        value = [i for i in flat_ids if i.startswith('BNF|')][0].split('|')[-1]\n",
    "        if obj.startswith(value):\n",
    "            found = True\n",
    "    elif predicate == 'WorldCat Identities-identificatiecode':\n",
    "        value = [i for i in xLinks if i.startswith('https://www.worldcat.org/identities/')][0].split('/')[-1]\n",
    "        if obj == value:\n",
    "            found = True\n",
    "    elif predicate == 'NTA-identificatiecode':\n",
    "        value = [i for i in flat_ids if i.startswith('NTA|')][0].split('|')[-1]\n",
    "        if obj in [value]:\n",
    "            found = True\n",
    "    elif predicate == 'NKC-identificatiecode':\n",
    "        value = [i for i in flat_ids if i.startswith('NKC|')][0].split('|')[-1]\n",
    "        if obj in [value]:\n",
    "            found = True\n",
    "    elif predicate == 'GND ID':\n",
    "        value = [i for i in flat_ids if i.startswith('DNB|')][0].split('|')[-1]\n",
    "        if obj in [value]:\n",
    "            found = True\n",
    "    elif predicate == 'VIAF':\n",
    "        if obj in [viaf_id]:\n",
    "            found = True\n",
    "    elif predicate == 'LCAuth':\n",
    "        value = [i for i in flat_ids if i.startswith('LC|')][0].split('|')[-1].replace(' ','')\n",
    "        if obj in [value]:\n",
    "            found = True\n",
    "    elif predicate == 'födelsedatum':\n",
    "        value = d['birthDate']\n",
    "        if obj.startswith(value):\n",
    "            found = True\n",
    "    elif predicate == 'ISNI':\n",
    "        value = [i for i in flat_ids if i.startswith('ISNI|')][0].split('|')[-1].replace(' ','')\n",
    "        if obj.replace(' ','') in [value]:\n",
    "            found = True\n",
    "    elif predicate == 'SELIBR ID':\n",
    "        value = [i for i in flat_ids if i.startswith('SELIBR|')][0].split('|')[-1].replace(' ','')\n",
    "        if obj.replace(' ','') in [value]:\n",
    "            found = True\n",
    "    else:\n",
    "        print(flat_ids)\n",
    "    \n",
    "    \n",
    "    if not found and verbose:\n",
    "        print(url)\n",
    "        print(predicate)\n",
    "        print(obj)\n",
    "        print(value)\n",
    "        #break\n",
    "    return found\n",
    "\n",
    "df_viaf_verified = df_viaf.apply(verify_viaf,axis=1)\n",
    "print('{}% are confirmed'.format(100*df_viaf_verified.sum()/len(df_viaf_verified)))\n",
    "\n",
    "# Mark them in the original df so that we don't crowdsource them\n",
    "for i in df_viaf.index:\n",
    "    df.loc[i,'verified'] = True\n",
    "\n",
    "# Those not verified\n",
    "df_viaf[df_viaf_verified == False]"
   ]
  },
  {
   "cell_type": "markdown",
   "metadata": {},
   "source": [
    "### testing other netlocs"
   ]
  },
  {
   "cell_type": "code",
   "execution_count": 10,
   "metadata": {},
   "outputs": [
    {
     "data": {
      "text/plain": [
       "geboortedatum                      2\n",
       "datum van oprichting of creatie    1\n",
       "Name: predicate, dtype: int64"
      ]
     },
     "execution_count": 10,
     "metadata": {},
     "output_type": "execute_result"
    }
   ],
   "source": [
    "df_ = df[df['netloc'] == 'www.odis.be']\n",
    "df_['predicate'].value_counts()"
   ]
  },
  {
   "cell_type": "code",
   "execution_count": 11,
   "metadata": {},
   "outputs": [
    {
     "data": {
      "text/html": [
       "<div>\n",
       "<style scoped>\n",
       "    .dataframe tbody tr th:only-of-type {\n",
       "        vertical-align: middle;\n",
       "    }\n",
       "\n",
       "    .dataframe tbody tr th {\n",
       "        vertical-align: top;\n",
       "    }\n",
       "\n",
       "    .dataframe thead th {\n",
       "        text-align: right;\n",
       "    }\n",
       "</style>\n",
       "<table border=\"1\" class=\"dataframe\">\n",
       "  <thead>\n",
       "    <tr style=\"text-align: right;\">\n",
       "      <th></th>\n",
       "      <th>reference_id</th>\n",
       "      <th>url</th>\n",
       "      <th>ref_node_pairs</th>\n",
       "      <th>language_crawl</th>\n",
       "      <th>statement_node</th>\n",
       "      <th>subject</th>\n",
       "      <th>predicate</th>\n",
       "      <th>object</th>\n",
       "      <th>g_id</th>\n",
       "      <th>verified</th>\n",
       "      <th>scheme</th>\n",
       "      <th>netloc</th>\n",
       "      <th>path</th>\n",
       "      <th>params</th>\n",
       "      <th>query</th>\n",
       "      <th>fragment</th>\n",
       "    </tr>\n",
       "  </thead>\n",
       "  <tbody>\n",
       "  </tbody>\n",
       "</table>\n",
       "</div>"
      ],
      "text/plain": [
       "Empty DataFrame\n",
       "Columns: [reference_id, url, ref_node_pairs, language_crawl, statement_node, subject, predicate, object, g_id, verified, scheme, netloc, path, params, query, fragment]\n",
       "Index: []"
      ]
     },
     "execution_count": 11,
     "metadata": {},
     "output_type": "execute_result"
    }
   ],
   "source": [
    "df_[df_['predicate'] == 'inventarisnummer']"
   ]
  },
  {
   "cell_type": "markdown",
   "metadata": {},
   "source": [
    "# Final: filter reference list for tasks and create file with checked references"
   ]
  },
  {
   "cell_type": "code",
   "execution_count": 12,
   "metadata": {},
   "outputs": [
    {
     "data": {
      "text/plain": [
       "rkd.nl                                    95\n",
       "data.collectienederland.nl                31\n",
       "cultureelerfgoed.nl                       21\n",
       "www.biografischportaal.nl                 18\n",
       "mskgent.be                                15\n",
       "data.kunsten.be                           12\n",
       "nl.wikipedia.org                          11\n",
       "www.rijksmuseum.nl                         8\n",
       "collectie.boijmans.nl                      8\n",
       "am.adlibhosting.com                        6\n",
       "www.archiefbank.be                         6\n",
       "www.dwc.knaw.nl                            6\n",
       "hoogleraren.leidenuniv.nl                  5\n",
       "albumacademicum.uva.nl                     5\n",
       "mleuven.be                                 5\n",
       "groeningemuseum.be                         5\n",
       "arthub.vlaamsekunstcollectie.be            4\n",
       "collectie.nederlandsfotomuseum.nl          3\n",
       "collectie.groningermuseum.nl               3\n",
       "collectie.rijksmuseumtwenthe.nl            3\n",
       "www.odis.be                                3\n",
       "vanherck.collectionkbf.be                  2\n",
       "www.historici.nl                           2\n",
       "adamlink.nl                                2\n",
       "tools.wmflabs.org                          2\n",
       "web.archive.org                            2\n",
       "www.kijkwijzer.nl                          2\n",
       "www.dbnl.org                               2\n",
       "www.sportuitslagen.org                     1\n",
       "noord-hollandsarchief.nl                   1\n",
       "www.erfgoed-kbs.be                         1\n",
       "www.viaf.org                               1\n",
       "hoogleraren.ub.rug.nl                      1\n",
       "www.inmemoriam.be                          1\n",
       "explore.rkd.nl                             1\n",
       "www.vrt.be                                 1\n",
       "www.nfn.nl                                 1\n",
       "resources.huygens.knaw.nl                  1\n",
       "www.gidsvoornederland.nl                   1\n",
       "www.senate.be                              1\n",
       "www.ugentmemorialis.be                     1\n",
       "search.museumplantinmoretus.be             1\n",
       "www.libellennet.nl                         1\n",
       "zoek.officielebekendmakingen.nl            1\n",
       "monumentenregister.cultureelerfgoed.nl     1\n",
       "www.gemeentemuseum.nl                      1\n",
       "hedendaagsesieraden.nl                     1\n",
       "resolver.kb.nl                             1\n",
       "toondertijd.nl                             1\n",
       "api.crossref.org                           1\n",
       "www.bumastemra.nl                          1\n",
       "www.franshalsmuseum.nl                     1\n",
       "wikidata-externalid-url.toolforge.org      1\n",
       "Name: netloc, dtype: int64"
      ]
     },
     "execution_count": 12,
     "metadata": {},
     "output_type": "execute_result"
    }
   ],
   "source": [
    "df[df['verified'] == False]['netloc'].value_counts()"
   ]
  },
  {
   "cell_type": "code",
   "execution_count": 13,
   "metadata": {},
   "outputs": [
    {
     "name": "stdout",
     "output_type": "stream",
     "text": [
      "Number of non-verified references: 312. That is 91.76470588235294% left from the total.\n"
     ]
    }
   ],
   "source": [
    "not_verified_reference_ids = list(df[df['verified'] == False]['reference_id'])\n",
    "print('Number of non-verified references: {}. That is {}% left from the total.'.format(\n",
    "    len(not_verified_reference_ids), 100*len(not_verified_reference_ids)/df.shape[0]\n",
    "))\n",
    "not_verified_references = [j for j in json_nl if j['reference_id'] in not_verified_reference_ids]\n",
    "with open('data/final/non_gd_filtered_sampled_references/filtered_sampled_references_nl_rel.json','w',encoding='utf-8') as f:\n",
    "    json.dump(not_verified_references,f ,indent=2,ensure_ascii=False)"
   ]
  },
  {
   "cell_type": "code",
   "execution_count": 14,
   "metadata": {},
   "outputs": [],
   "source": [
    "def is_wikipedia(url):\n",
    "    if url.startswith('https://nl.wikipedia.org'):\n",
    "        return True\n",
    "    elif url.startswith('https://en.wikipedia.org'):\n",
    "        return True\n",
    "    return False\n",
    "\n",
    "not_verified_references_non_wikipedia = [r for r in not_verified_references if not is_wikipedia(r['url'])]\n",
    "with open('data/final/non_gd_filtered_sampled_references/filtered_sampled_references_nl_auth.json','w',encoding='utf-8') as f:\n",
    "    json.dump(not_verified_references_non_wikipedia,f ,indent=2,ensure_ascii=False)"
   ]
  },
  {
   "cell_type": "code",
   "execution_count": 15,
   "metadata": {},
   "outputs": [
    {
     "data": {
      "text/plain": [
       "www.ebi.ac.uk    16\n",
       "viaf.org         12\n",
       "Name: netloc, dtype: int64"
      ]
     },
     "execution_count": 15,
     "metadata": {},
     "output_type": "execute_result"
    }
   ],
   "source": [
    "df[df['verified'] == True]['netloc'].value_counts()"
   ]
  },
  {
   "cell_type": "code",
   "execution_count": 16,
   "metadata": {},
   "outputs": [
    {
     "name": "stdout",
     "output_type": "stream",
     "text": [
      "Number of verified references: 28. That is 8.235294117647058% from the total.\n"
     ]
    }
   ],
   "source": [
    "verified_reference_ids = list(df[df['verified'] == True]['reference_id'])\n",
    "print('Number of verified references: {}. That is {}% from the total.'.format(\n",
    "    len(verified_reference_ids), 100*len(verified_reference_ids)/df.shape[0]\n",
    "))"
   ]
  },
  {
   "cell_type": "code",
   "execution_count": 18,
   "metadata": {},
   "outputs": [],
   "source": [
    "verified_references = [j for j in json_nl if j['reference_id'] in verified_reference_ids]\n",
    "for vr in verified_references:\n",
    "    vr['g_id'] = {\n",
    "      \"relevance\": {\n",
    "          \"is_present\": 1,\n",
    "          \"difficulty\": -1,\n",
    "          \"reason\": -1\n",
    "      },\n",
    "      \"authorit\":{\n",
    "          \"author\": -1,\n",
    "          \"publisher\": -1,\n",
    "          \"sub_publisher\": -1\n",
    "      }\n",
    "    }\n",
    "    if 'www.ebi.ac.uk/europepmc/webservices/rest/search' in vr['url']:\n",
    "        vr['g_id']['relevance']['difficulty'] = 3\n",
    "        vr['g_id']['authorit']['author'] = 1\n",
    "        vr['g_id']['authorit']['publisher'] = 0\n",
    "        vr['g_id']['authorit']['sub_publisher'] = 0\n",
    "    elif 'viaf.org' in vr['url']:\n",
    "        vr['g_id']['relevance']['difficulty'] = 2\n",
    "        vr['g_id']['authorit']['author'] = 1\n",
    "        vr['g_id']['authorit']['publisher'] = 1\n",
    "        vr['g_id']['authorit']['sub_publisher'] = 3\n",
    "    else:\n",
    "        assert(False)\n",
    "\n",
    "with open('data/final/non_gd_annotations_auto_api/autochecked_sampled_references_nl.json','w',encoding='utf-8') as f:\n",
    "    json.dump(verified_references,f ,indent=2,ensure_ascii=False)"
   ]
  },
  {
   "cell_type": "markdown",
   "metadata": {},
   "source": [
    "### Then, go to the autochecked results file saved on the previous cell and edit the cases where verification failed"
   ]
  },
  {
   "cell_type": "code",
   "execution_count": null,
   "metadata": {},
   "outputs": [],
   "source": []
  }
 ],
 "metadata": {
  "kernelspec": {
   "display_name": "Python 3",
   "language": "python",
   "name": "python3"
  },
  "language_info": {
   "codemirror_mode": {
    "name": "ipython",
    "version": 3
   },
   "file_extension": ".py",
   "mimetype": "text/x-python",
   "name": "python",
   "nbconvert_exporter": "python",
   "pygments_lexer": "ipython3",
   "version": "3.7.7"
  }
 },
 "nbformat": 4,
 "nbformat_minor": 4
}

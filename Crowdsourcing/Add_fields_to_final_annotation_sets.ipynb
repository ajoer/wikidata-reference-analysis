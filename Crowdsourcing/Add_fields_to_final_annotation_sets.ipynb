{
 "cells": [
  {
   "cell_type": "markdown",
   "metadata": {},
   "source": [
    "# Why this code exists\n",
    "\n",
    "The goal of this code is to add some fields to the final annotation sets, such as url_type, publication date, etc. These fields exist in the 'reference_nodes_to_urls' database but were lost when generating the samples for crowdsourcing. Here we add them back."
   ]
  },
  {
   "cell_type": "code",
   "execution_count": 1,
   "metadata": {},
   "outputs": [],
   "source": [
    "import json\n",
    "import random\n",
    "import uuid\n",
    "import numpy as np\n",
    "import time\n",
    "import requests\n",
    "import traceback\n",
    "import math\n",
    "import ast\n",
    "import pandas as pd\n",
    "from qwikidata.linked_data_interface import get_entity_dict_from_api\n",
    "from qwikidata.sparql import return_sparql_query_results\n",
    "import sqlite3"
   ]
  },
  {
   "cell_type": "code",
   "execution_count": 2,
   "metadata": {},
   "outputs": [],
   "source": [
    "wikidata_db_processed = sqlite3.connect('/mnt/data/group3/wikidata/part/wikidata_processed_apr.db')\n",
    "cursor = wikidata_db_processed.cursor()"
   ]
  },
  {
   "cell_type": "code",
   "execution_count": 15,
   "metadata": {},
   "outputs": [],
   "source": [
    "def update_references(fpath):\n",
    "    #fpath = './data/final/all_aggregated_annotations/sampled_references_annotated_en_all.json'\n",
    "    with open(fpath) as f:\n",
    "        references = json.load(f)\n",
    "    for r in references:\n",
    "        #print(r)\n",
    "\n",
    "        cursor.execute('''\n",
    "            select * from reference_nodes_to_urls\n",
    "            where reference_id = '{}'\n",
    "        '''.format(r['reference_id']))\n",
    "\n",
    "        r_db = cursor.fetchall()[0]\n",
    "        r['url'] = r_db[1]\n",
    "        r['url_type'] = r_db[2]\n",
    "        r['is_inferred_from'] = r_db[3]\n",
    "        r['stated_in'] = r_db[4]\n",
    "        r['external_id_prop'] = r_db[5]\n",
    "        r['external_id'] = r_db[6]\n",
    "        r['internal_urls'] = r_db[7]\n",
    "        r['external_url'] = r_db[8]\n",
    "        r['wikimedia_import_urls'] = r_db[9]    \n",
    "        r['retrieved'] = r_db[10]\n",
    "        r['publication_date'] = r_db[11]\n",
    "    \n",
    "    return references"
   ]
  },
  {
   "cell_type": "code",
   "execution_count": 23,
   "metadata": {},
   "outputs": [],
   "source": [
    "en_all = update_references('./data/final/all_aggregated_annotations/sampled_references_annotated_en_all.json')\n",
    "with open('./data/final/all_aggregated_annotations/sampled_references_annotated_en_all.json','w') as f:\n",
    "    json.dump(en_all,f,indent=2, ensure_ascii=False)\n",
    "    \n",
    "es_all = update_references('./data/final/all_aggregated_annotations/sampled_references_annotated_es_all.json')\n",
    "with open('./data/final/all_aggregated_annotations/sampled_references_annotated_es_all.json','w') as f:\n",
    "    json.dump(es_all,f,indent=2, ensure_ascii=False)\n",
    "\n",
    "pt_all = update_references('./data/final/all_aggregated_annotations/sampled_references_annotated_pt_all.json')\n",
    "with open('./data/final/all_aggregated_annotations/sampled_references_annotated_pt_all.json','w') as f:\n",
    "    json.dump(pt_all,f,indent=2, ensure_ascii=False)"
   ]
  }
 ],
 "metadata": {
  "kernelspec": {
   "display_name": "Python 3",
   "language": "python",
   "name": "python3"
  },
  "language_info": {
   "codemirror_mode": {
    "name": "ipython",
    "version": 3
   },
   "file_extension": ".py",
   "mimetype": "text/x-python",
   "name": "python",
   "nbconvert_exporter": "python",
   "pygments_lexer": "ipython3",
   "version": "3.7.7"
  }
 },
 "nbformat": 4,
 "nbformat_minor": 4
}

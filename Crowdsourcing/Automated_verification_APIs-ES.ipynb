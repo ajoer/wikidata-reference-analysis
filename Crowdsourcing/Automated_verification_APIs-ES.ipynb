{
 "cells": [
  {
   "cell_type": "code",
   "execution_count": 1,
   "metadata": {},
   "outputs": [],
   "source": [
    "import pandas as pd\n",
    "import json\n",
    "import numpy as np\n",
    "import requests\n",
    "import urllib\n",
    "from urllib.parse import urlparse\n",
    "import matplotlib.pyplot as plt\n",
    "import seaborn as sns\n",
    "import ast\n",
    "import textdistance\n",
    "import string\n",
    "import re\n",
    "from dateutil import parser\n",
    "import time\n",
    "from googletrans import Translator"
   ]
  },
  {
   "cell_type": "code",
   "execution_count": 2,
   "metadata": {},
   "outputs": [
    {
     "data": {
      "text/plain": [
       "(340, 10)"
      ]
     },
     "execution_count": 2,
     "metadata": {},
     "output_type": "execute_result"
    }
   ],
   "source": [
    "with open('data/final/sampled_references_es.json','r',encoding='utf-8') as f:\n",
    "    json_es = json.load(f)\n",
    "    df = pd.DataFrame(json_es)\n",
    "df['verified'] = False\n",
    "df.shape"
   ]
  },
  {
   "cell_type": "code",
   "execution_count": 3,
   "metadata": {},
   "outputs": [],
   "source": [
    "def norm_string(s):\n",
    "    #return s.lower().translate(str.maketrans('', '', string.punctuation))\n",
    "    return re.sub('\\W+','', s).lower()\n",
    "\n",
    "def compare(s1,s2):\n",
    "    return textdistance.levenshtein.normalized_similarity(norm_string(s1),norm_string(s2))"
   ]
  },
  {
   "cell_type": "markdown",
   "metadata": {},
   "source": [
    "## We check the netlocs to see what checks can be automatized"
   ]
  },
  {
   "cell_type": "code",
   "execution_count": 4,
   "metadata": {},
   "outputs": [
    {
     "data": {
      "text/html": [
       "<div>\n",
       "<style scoped>\n",
       "    .dataframe tbody tr th:only-of-type {\n",
       "        vertical-align: middle;\n",
       "    }\n",
       "\n",
       "    .dataframe tbody tr th {\n",
       "        vertical-align: top;\n",
       "    }\n",
       "\n",
       "    .dataframe thead th {\n",
       "        text-align: right;\n",
       "    }\n",
       "</style>\n",
       "<table border=\"1\" class=\"dataframe\">\n",
       "  <thead>\n",
       "    <tr style=\"text-align: right;\">\n",
       "      <th></th>\n",
       "      <th>index</th>\n",
       "      <th>netloc</th>\n",
       "    </tr>\n",
       "  </thead>\n",
       "  <tbody>\n",
       "    <tr>\n",
       "      <th>0</th>\n",
       "      <td>es.wikipedia.org</td>\n",
       "      <td>113</td>\n",
       "    </tr>\n",
       "    <tr>\n",
       "      <th>1</th>\n",
       "      <td>www.ebi.ac.uk</td>\n",
       "      <td>56</td>\n",
       "    </tr>\n",
       "    <tr>\n",
       "      <th>2</th>\n",
       "      <td>tools.wmflabs.org</td>\n",
       "      <td>33</td>\n",
       "    </tr>\n",
       "    <tr>\n",
       "      <th>3</th>\n",
       "      <td>viaf.org</td>\n",
       "      <td>27</td>\n",
       "    </tr>\n",
       "    <tr>\n",
       "      <th>4</th>\n",
       "      <td>datos.bne.es</td>\n",
       "      <td>19</td>\n",
       "    </tr>\n",
       "    <tr>\n",
       "      <th>5</th>\n",
       "      <td>www.museodelprado.es</td>\n",
       "      <td>14</td>\n",
       "    </tr>\n",
       "    <tr>\n",
       "      <th>6</th>\n",
       "      <td>www.congreso.es</td>\n",
       "      <td>7</td>\n",
       "    </tr>\n",
       "    <tr>\n",
       "      <th>7</th>\n",
       "      <td>dbe.rah.es</td>\n",
       "      <td>4</td>\n",
       "    </tr>\n",
       "    <tr>\n",
       "      <th>8</th>\n",
       "      <td>www.boe.es</td>\n",
       "      <td>4</td>\n",
       "    </tr>\n",
       "    <tr>\n",
       "      <th>9</th>\n",
       "      <td>www.filmaffinity.com</td>\n",
       "      <td>4</td>\n",
       "    </tr>\n",
       "  </tbody>\n",
       "</table>\n",
       "</div>"
      ],
      "text/plain": [
       "                  index  netloc\n",
       "0      es.wikipedia.org     113\n",
       "1         www.ebi.ac.uk      56\n",
       "2     tools.wmflabs.org      33\n",
       "3              viaf.org      27\n",
       "4          datos.bne.es      19\n",
       "5  www.museodelprado.es      14\n",
       "6       www.congreso.es       7\n",
       "7            dbe.rah.es       4\n",
       "8            www.boe.es       4\n",
       "9  www.filmaffinity.com       4"
      ]
     },
     "execution_count": 4,
     "metadata": {},
     "output_type": "execute_result"
    }
   ],
   "source": [
    "urlparse_df = df['url'].transform(urlparse)\n",
    "urlparse_df = pd.DataFrame(urlparse_df.tolist(), index=urlparse_df.index)\n",
    "df[['scheme','netloc','path','params','query','fragment']] = urlparse_df\n",
    "pd.DataFrame(df['netloc'].value_counts()).reset_index().head(10)"
   ]
  },
  {
   "cell_type": "code",
   "execution_count": 5,
   "metadata": {},
   "outputs": [
    {
     "data": {
      "image/png": "[encoded data removed]",
      "text/plain": [
       "<Figure size 360x720 with 1 Axes>"
      ]
     },
     "metadata": {
      "needs_background": "light"
     },
     "output_type": "display_data"
    }
   ],
   "source": [
    "fig, ax = plt.subplots(1,1,figsize=(5,10))\n",
    "sns.barplot(data = pd.DataFrame(df['netloc'].value_counts()).reset_index(),\n",
    "           y = 'index',x='netloc', ax=ax)\n",
    "plt.show()"
   ]
  },
  {
   "cell_type": "markdown",
   "metadata": {},
   "source": [
    "## www.ebi.ac.uk\n",
    "We see here that there are many types of predicates, but automating these many checks may be done.\n",
    "\n",
    "Some here have the path for the api, some do not. We can only check those directed at the API, so we filter them. The ones filtered out are protein and gene databases which we'll check later."
   ]
  },
  {
   "cell_type": "markdown",
   "metadata": {},
   "source": [
    "### Article API"
   ]
  },
  {
   "cell_type": "code",
   "execution_count": 6,
   "metadata": {},
   "outputs": [
    {
     "data": {
      "text/plain": [
       "(nombre del autor        17\n",
       " publicado en             6\n",
       " tomo                     6\n",
       " identificador PubMed     5\n",
       " fecha de publicación     4\n",
       " número de ejemplar       4\n",
       " DOI                      4\n",
       " instancia de             4\n",
       " página                   3\n",
       " autor                    2\n",
       " título                   1\n",
       " Name: predicate, dtype: int64,\n",
       " 56)"
      ]
     },
     "execution_count": 6,
     "metadata": {},
     "output_type": "execute_result"
    }
   ],
   "source": [
    "df_ebi = df[df['netloc'] == 'www.ebi.ac.uk']\n",
    "df_ebi_api = df_ebi[df_ebi['path'] == '/europepmc/webservices/rest/search']\n",
    "df_ebi_api['predicate'].value_counts(), df_ebi_api.shape[0]"
   ]
  },
  {
   "cell_type": "code",
   "execution_count": 7,
   "metadata": {},
   "outputs": [
    {
     "name": "stdout",
     "output_type": "stream",
     "text": [
      "100.0% are confirmed\n"
     ]
    },
    {
     "data": {
      "text/html": [
       "<div>\n",
       "<style scoped>\n",
       "    .dataframe tbody tr th:only-of-type {\n",
       "        vertical-align: middle;\n",
       "    }\n",
       "\n",
       "    .dataframe tbody tr th {\n",
       "        vertical-align: top;\n",
       "    }\n",
       "\n",
       "    .dataframe thead th {\n",
       "        text-align: right;\n",
       "    }\n",
       "</style>\n",
       "<table border=\"1\" class=\"dataframe\">\n",
       "  <thead>\n",
       "    <tr style=\"text-align: right;\">\n",
       "      <th></th>\n",
       "      <th>reference_id</th>\n",
       "      <th>url</th>\n",
       "      <th>ref_node_pairs</th>\n",
       "      <th>language_crawl</th>\n",
       "      <th>statement_node</th>\n",
       "      <th>subject</th>\n",
       "      <th>predicate</th>\n",
       "      <th>object</th>\n",
       "      <th>g_id</th>\n",
       "      <th>verified</th>\n",
       "      <th>scheme</th>\n",
       "      <th>netloc</th>\n",
       "      <th>path</th>\n",
       "      <th>params</th>\n",
       "      <th>query</th>\n",
       "      <th>fragment</th>\n",
       "    </tr>\n",
       "  </thead>\n",
       "  <tbody>\n",
       "  </tbody>\n",
       "</table>\n",
       "</div>"
      ],
      "text/plain": [
       "Empty DataFrame\n",
       "Columns: [reference_id, url, ref_node_pairs, language_crawl, statement_node, subject, predicate, object, g_id, verified, scheme, netloc, path, params, query, fragment]\n",
       "Index: []"
      ]
     },
     "execution_count": 7,
     "metadata": {},
     "output_type": "execute_result"
    }
   ],
   "source": [
    "def verify_ebi_api(row, verbose=True):\n",
    "#for i, row in df_en_ebi_api.iterrows():\n",
    "    found = False\n",
    "    subject = row['subject']\n",
    "    obj = row['object']\n",
    "    predicate = row['predicate']\n",
    "    d = requests.get(row['url']).json()['resultList']['result']\n",
    "    \n",
    "    if compare(subject, d[0]['title']) < 0.9:\n",
    "        if verbose:\n",
    "            print(subject)\n",
    "            print(d[0]['title'])\n",
    "        #break\n",
    "        return found\n",
    "    if predicate == 'instancia de':\n",
    "        value = d[0]['pubTypeList']['pubType']\n",
    "        if obj == 'artículo científico' and 'Journal Article' in value or 'Case Reports' in value:\n",
    "            found = True            \n",
    "    elif predicate == 'fecha de publicación':\n",
    "        value = d[0]['firstPublicationDate']\n",
    "        if parser.parse(obj).date() == parser.parse(value).date():\n",
    "            found = True\n",
    "    elif predicate == 'publicado en':\n",
    "        obj = obj.replace('The BMJ','British medical journal')\n",
    "        value = d[0]['journalInfo']['journal']['title']\n",
    "        value = value.split(' = ')\n",
    "        for v in value:\n",
    "            if compare(obj, v) >= 0.6:\n",
    "                found = True\n",
    "    elif predicate == 'DOI':\n",
    "        value = d[0]['doi']\n",
    "        if compare(obj, value) >= 0.99:\n",
    "            found = True\n",
    "    elif predicate == 'nombre del autor' or predicate == 'autor':\n",
    "        value = d[0]['authorList']['author']\n",
    "        for author in value:\n",
    "            #if 'fullName' in author:\n",
    "            #    print('Full name:',author['fullName'])\n",
    "            #if 'firstName' in author:\n",
    "            #    print('First and last names:',author['firstName'] + ' ' + author['lastName'])\n",
    "            #print(obj)\n",
    "            if 'fullName' in author and compare(obj, author['fullName']) >= 0.99:\n",
    "                found = True\n",
    "            elif 'firstName' in author and compare(obj, author['firstName'] + ' ' + author['lastName']) >= 0.99:\n",
    "                found = True\n",
    "    elif predicate == 'tomo':\n",
    "        value = d[0]['journalInfo']['volume']\n",
    "        if value == obj:\n",
    "            found = True\n",
    "    elif predicate == 'página':\n",
    "        value = d[0]['pageInfo']\n",
    "        if value == obj:\n",
    "            found = True\n",
    "    elif predicate == 'número de ejemplar':\n",
    "        value = d[0]['journalInfo']['issue']\n",
    "        if value == obj:\n",
    "            found = True\n",
    "    elif predicate == 'identificador PubMed':\n",
    "        value = d[0]['id']\n",
    "        if value == obj:\n",
    "            found = True\n",
    "    #elif predicate == 'author':\n",
    "    #    value = d[0]['authorList']['author']\n",
    "    elif predicate == 'título':\n",
    "        value = d[0]['title']\n",
    "        if compare(obj, d[0]['title']) >= 0.9:\n",
    "            found = True\n",
    "    elif predicate == 'PMCID':\n",
    "        value = d[0]['pmcid']\n",
    "        if ('PMC'+obj) == value:\n",
    "            found = True\n",
    "    if not found and verbose:\n",
    "        print(predicate)\n",
    "        print(obj)\n",
    "        print(value)\n",
    "        #break\n",
    "    return found\n",
    "\n",
    "df_ebi_api_verified = df_ebi_api.apply(verify_ebi_api,axis=1)\n",
    "print('{}% are confirmed'.format(100*df_ebi_api_verified.sum()/len(df_ebi_api_verified)))\n",
    "\n",
    "# Mark them in the original df so that we don't crowdsource them\n",
    "for i in df_ebi_api.index:\n",
    "    df.loc[i,'verified'] = True\n",
    "    \n",
    "# Those not verified\n",
    "df_ebi_api[df_ebi_api_verified == False]"
   ]
  },
  {
   "cell_type": "markdown",
   "metadata": {},
   "source": [
    "### The rest of ebi.ac.uk (genes and proteins)\n",
    "\n",
    "Conclusion: Names in subject / object differ too much from those obtained in the APIs, and there seems to be great need of domain knowledge (biology) to navigate through the information, making automatically checking the API daunting and approaches manual effort."
   ]
  },
  {
   "cell_type": "markdown",
   "metadata": {},
   "source": [
    "# pubmed.ncbi.nlm.nih.gov\n",
    "\n",
    "These use a very similar json structure to ebi.ac.uk and the same endpoint as eutils so it is also possible to automatize"
   ]
  },
  {
   "cell_type": "code",
   "execution_count": 8,
   "metadata": {},
   "outputs": [
    {
     "data": {
      "text/plain": [
       "(nombre del autor        1\n",
       " fecha de publicación    1\n",
       " publicado en            1\n",
       " instancia de            1\n",
       " Name: predicate, dtype: int64,\n",
       " (4, 16))"
      ]
     },
     "execution_count": 8,
     "metadata": {},
     "output_type": "execute_result"
    }
   ],
   "source": [
    "df_pubmed = df[df['netloc'] == 'pubmed.ncbi.nlm.nih.gov']\n",
    "df_pubmed['predicate'].value_counts(), df_pubmed.shape"
   ]
  },
  {
   "cell_type": "code",
   "execution_count": 9,
   "metadata": {},
   "outputs": [
    {
     "name": "stdout",
     "output_type": "stream",
     "text": [
      "100.0% are confirmed\n"
     ]
    },
    {
     "data": {
      "text/html": [
       "<div>\n",
       "<style scoped>\n",
       "    .dataframe tbody tr th:only-of-type {\n",
       "        vertical-align: middle;\n",
       "    }\n",
       "\n",
       "    .dataframe tbody tr th {\n",
       "        vertical-align: top;\n",
       "    }\n",
       "\n",
       "    .dataframe thead th {\n",
       "        text-align: right;\n",
       "    }\n",
       "</style>\n",
       "<table border=\"1\" class=\"dataframe\">\n",
       "  <thead>\n",
       "    <tr style=\"text-align: right;\">\n",
       "      <th></th>\n",
       "      <th>reference_id</th>\n",
       "      <th>url</th>\n",
       "      <th>ref_node_pairs</th>\n",
       "      <th>language_crawl</th>\n",
       "      <th>statement_node</th>\n",
       "      <th>subject</th>\n",
       "      <th>predicate</th>\n",
       "      <th>object</th>\n",
       "      <th>g_id</th>\n",
       "      <th>verified</th>\n",
       "      <th>scheme</th>\n",
       "      <th>netloc</th>\n",
       "      <th>path</th>\n",
       "      <th>params</th>\n",
       "      <th>query</th>\n",
       "      <th>fragment</th>\n",
       "    </tr>\n",
       "  </thead>\n",
       "  <tbody>\n",
       "  </tbody>\n",
       "</table>\n",
       "</div>"
      ],
      "text/plain": [
       "Empty DataFrame\n",
       "Columns: [reference_id, url, ref_node_pairs, language_crawl, statement_node, subject, predicate, object, g_id, verified, scheme, netloc, path, params, query, fragment]\n",
       "Index: []"
      ]
     },
     "execution_count": 9,
     "metadata": {},
     "output_type": "execute_result"
    }
   ],
   "source": [
    "def verify_pubmed(row, verbose=True):\n",
    "#verbose = True\n",
    "#for i, row in df_en_pubmed.iterrows():\n",
    "    found = False\n",
    "    subject = row['subject']\n",
    "    obj = row['object']\n",
    "    predicate = row['predicate']\n",
    "    pubmed_id = row['url'].split('/')[-1]\n",
    "    while 1:\n",
    "        url = 'https://eutils.ncbi.nlm.nih.gov/entrez/eutils/esummary.fcgi?db=pubmed&id={}&retmode=json'.format(pubmed_id)\n",
    "        resp = requests.get(url)\n",
    "        if resp.status_code == 502:\n",
    "            continue\n",
    "        else:\n",
    "            break\n",
    "    try:\n",
    "        d = resp.json()\n",
    "    except Exception:\n",
    "        print(url)\n",
    "        print(resp)\n",
    "        return False\n",
    "    if compare(subject, d['result'][pubmed_id]['title']) < 0.9:\n",
    "        if verbose:\n",
    "            print(subject)\n",
    "            print(d['result'][pubmed_id]['title'])\n",
    "        #break\n",
    "        return found\n",
    "        \n",
    "    if predicate == 'instancia de':\n",
    "        value = d['result'][pubmed_id]['pubtype']\n",
    "        if obj == 'artículo científico' and 'Journal Article' in value:\n",
    "            found = True            \n",
    "    elif predicate == 'fecha de publicación':\n",
    "        value = d['result'][pubmed_id]['sortpubdate']\n",
    "        if parser.parse(obj).date() == parser.parse(value).date():\n",
    "            found = True\n",
    "        if 'epubdate' in d['result'][pubmed_id]:\n",
    "            value = d['result'][pubmed_id]['epubdate']\n",
    "            if parser.parse(obj).date() == parser.parse(value).date():\n",
    "                found = True\n",
    "    elif predicate == 'publicado en':\n",
    "        value = d['result'][pubmed_id]['fulljournalname']\n",
    "        value = value.split(' = ')\n",
    "        for v in value:\n",
    "            if compare(obj, v) >= 0.6:\n",
    "                found = True\n",
    "    elif predicate == 'DOI':\n",
    "        value = [v['value'] for v in d['result'][pubmed_id]['articleids'] if v['idtype'] == 'doi'][0]\n",
    "        if compare(obj, value) >= 0.99:\n",
    "            found = True\n",
    "    elif predicate == 'nombre del autor' or predicate == 'autor':\n",
    "        value = d['result'][pubmed_id]['authors']\n",
    "        for author in value:\n",
    "            if compare(obj, author['name']) >= 0.99:\n",
    "                found = True\n",
    "            else:\n",
    "                authornames = re.split(' ',obj)\n",
    "                name_reordered = authornames[-1] + ' ' + ''.join(authornames[:-1])\n",
    "                if compare(name_reordered, author['name']) >= 0.80:\n",
    "                    found = True\n",
    "                name_reordered = ' '.join(authornames[1:]) + ' ' + authornames[0][1]\n",
    "                if compare(name_reordered, author['name']) >= 0.80:\n",
    "                    found = True\n",
    "                name_reordered = authornames[-1] + ' ' + ''.join([n[0] for n in authornames[:-1]])\n",
    "                if compare(name_reordered, author['name']) >= 0.80:\n",
    "                    found = True\n",
    "                    \n",
    "                authornames = re.split('-| ',obj)\n",
    "                name_reordered = authornames[-1] + ' ' + ''.join(authornames[:-1])\n",
    "                if compare(name_reordered, author['name']) >= 0.80:\n",
    "                    found = True\n",
    "                name_reordered = authornames[-1] + ' ' + ''.join([n[0] for n in authornames[:-1]])\n",
    "                if compare(name_reordered, author['name']) >= 0.80:\n",
    "                    found = True\n",
    "    elif predicate == 'tomo':\n",
    "        value = d['result'][pubmed_id]['volume']\n",
    "        if value == obj:\n",
    "            found = True\n",
    "    elif predicate == 'página':\n",
    "        value = d['result'][pubmed_id]['pages']\n",
    "        values = value.split('-')\n",
    "        if len(values[1]) < len(values[0]):\n",
    "            valuedif = len(values[0]) - len(values[1])\n",
    "            value = values[0] + '-' + values[0][0:valuedif] + values[1]\n",
    "        if value == obj:\n",
    "            found = True\n",
    "    elif predicate == 'número de ejemplar':\n",
    "        value = d['result'][pubmed_id]['issue']\n",
    "        if value == obj:\n",
    "            found = True\n",
    "    elif predicate == 'identificador PubMed':\n",
    "        value = [v['value'] for v in d['result'][pubmed_id]['articleids'] if v['idtype'] == 'pubmed'][0]\n",
    "        if value == obj:\n",
    "            found = True\n",
    "    #elif predicate == 'author':\n",
    "    #    value = d[0]['authorList']['author']\n",
    "    elif predicate == 'título':\n",
    "        value = d['result'][pubmed_id]['title']\n",
    "        if compare(obj, value) >= 0.9:\n",
    "            found = True\n",
    "    #elif predicate == 'PMCID':\n",
    "    #    value = d[0]['pmcid']\n",
    "    #    if ('PMC'+obj) == value:\n",
    "    #        found = True\n",
    "    if not found and verbose:\n",
    "        print(url)\n",
    "        print(predicate)\n",
    "        print(obj)\n",
    "        print(value)\n",
    "        #break\n",
    "    return found\n",
    "\n",
    "df_pubmed_verified = df_pubmed.apply(verify_pubmed,axis=1)\n",
    "print('{}% are confirmed'.format(100*df_pubmed_verified.sum()/len(df_pubmed_verified)))\n",
    "\n",
    "\n",
    "# Mark them in the original df so that we don't crowdsource them\n",
    "for i in df_pubmed.index:\n",
    "    df.loc[i,'verified'] = True\n",
    "    \n",
    "# Those not verified\n",
    "df_pubmed[df_pubmed_verified == False]"
   ]
  },
  {
   "cell_type": "markdown",
   "metadata": {},
   "source": [
    "## api.crossref.org\n",
    "\n",
    "simple api and not many predicates, automatable"
   ]
  },
  {
   "cell_type": "code",
   "execution_count": 10,
   "metadata": {},
   "outputs": [
    {
     "data": {
      "text/plain": [
       "referencia    1\n",
       "Name: predicate, dtype: int64"
      ]
     },
     "execution_count": 10,
     "metadata": {},
     "output_type": "execute_result"
    }
   ],
   "source": [
    "df_crossref = df[df['netloc'] == 'api.crossref.org']\n",
    "df_crossref['predicate'].value_counts()"
   ]
  },
  {
   "cell_type": "code",
   "execution_count": 11,
   "metadata": {},
   "outputs": [
    {
     "name": "stdout",
     "output_type": "stream",
     "text": [
      "100.0% are confirmed\n"
     ]
    },
    {
     "data": {
      "text/html": [
       "<div>\n",
       "<style scoped>\n",
       "    .dataframe tbody tr th:only-of-type {\n",
       "        vertical-align: middle;\n",
       "    }\n",
       "\n",
       "    .dataframe tbody tr th {\n",
       "        vertical-align: top;\n",
       "    }\n",
       "\n",
       "    .dataframe thead th {\n",
       "        text-align: right;\n",
       "    }\n",
       "</style>\n",
       "<table border=\"1\" class=\"dataframe\">\n",
       "  <thead>\n",
       "    <tr style=\"text-align: right;\">\n",
       "      <th></th>\n",
       "      <th>reference_id</th>\n",
       "      <th>url</th>\n",
       "      <th>ref_node_pairs</th>\n",
       "      <th>language_crawl</th>\n",
       "      <th>statement_node</th>\n",
       "      <th>subject</th>\n",
       "      <th>predicate</th>\n",
       "      <th>object</th>\n",
       "      <th>g_id</th>\n",
       "      <th>verified</th>\n",
       "      <th>scheme</th>\n",
       "      <th>netloc</th>\n",
       "      <th>path</th>\n",
       "      <th>params</th>\n",
       "      <th>query</th>\n",
       "      <th>fragment</th>\n",
       "    </tr>\n",
       "  </thead>\n",
       "  <tbody>\n",
       "  </tbody>\n",
       "</table>\n",
       "</div>"
      ],
      "text/plain": [
       "Empty DataFrame\n",
       "Columns: [reference_id, url, ref_node_pairs, language_crawl, statement_node, subject, predicate, object, g_id, verified, scheme, netloc, path, params, query, fragment]\n",
       "Index: []"
      ]
     },
     "execution_count": 11,
     "metadata": {},
     "output_type": "execute_result"
    }
   ],
   "source": [
    "import urllib.parse\n",
    "cont_info = '?mailto=k2031554@kcl.ac.uk'\n",
    "\n",
    "def verify_crossref(row, verbose=True):\n",
    "#verbose = True\n",
    "#for i, row in df_en_crossref.iterrows():\n",
    "    found = False\n",
    "    subject = row['subject']\n",
    "    obj = row['object']\n",
    "    predicate = row['predicate']\n",
    "    \n",
    "    d = requests.get(row['url']+cont_info).json()\n",
    "    \n",
    "    if compare(subject, d['message']['title'][0]) < 0.9:\n",
    "        translator = Translator()\n",
    "        translated_title = translator.translate(d['message']['title'][0], dest='en').text\n",
    "        if compare(subject, translated_title) <0.7:\n",
    "            if verbose:\n",
    "                print(subject)\n",
    "                print(d['message']['title'][0])\n",
    "                print(translated_title)\n",
    "        #break\n",
    "            return found\n",
    "        \n",
    "    if predicate == 'instancia de':\n",
    "        value = d['message']['type']\n",
    "        if obj == 'scholarly article' and 'journal-article' in value:\n",
    "            found = True \n",
    "    elif predicate == 'referencia':\n",
    "        if 'reference' in d['message']:\n",
    "            value = d['message']['reference']\n",
    "        else:\n",
    "            value = []\n",
    "        for ref in value:\n",
    "            try:\n",
    "                if 'DOI' in ref:\n",
    "                    doi = urllib.parse.quote_plus(ref['DOI'])\n",
    "                    resp = requests.get('https://api.crossref.org/works/'+doi+cont_info)\n",
    "                    if resp.status_code != 404:\n",
    "                        if len(resp.json()['message']['title']) > 0:\n",
    "                            title = resp.json()['message']['title'][0]\n",
    "                        elif len(resp.json()['message']['container-title']) >0:\n",
    "                            title = resp.json()['message']['container-title'][0]\n",
    "                        else:\n",
    "                            title = ''\n",
    "                    else:\n",
    "                        title = ''\n",
    "                    #print(title)\n",
    "                elif 'unstructured' in ref:\n",
    "                    title = ref['unstructured'].split('In:')[0]\n",
    "                    #print(title)\n",
    "                elif 'volume-title' in ref:\n",
    "                    title = ref['volume-title']\n",
    "                elif 'article-title' in ref:\n",
    "                    title = ref['article-title']\n",
    "                if compare(obj,title) >= 0.9:\n",
    "                    found = True\n",
    "                    break\n",
    "                else:\n",
    "                    translator = Translator()\n",
    "                    translated_title = translator.translate(title, dest='en').text\n",
    "                    if compare(obj, translated_title) >= 0.7:\n",
    "                        found = True\n",
    "                        break\n",
    "            except Exception as e:\n",
    "                print(row['url'])\n",
    "                print(e)\n",
    "                print(doi)\n",
    "                print(resp.__dict__)\n",
    "                print('\\n')\n",
    "    if not found and verbose:\n",
    "        print(predicate)\n",
    "        print(obj)\n",
    "        print(value)\n",
    "        #break\n",
    "    return found\n",
    "\n",
    "df_crossref_verified = df_crossref.apply(verify_crossref,axis=1)\n",
    "print('{}% are confirmed'.format(100*df_crossref_verified.sum()/len(df_crossref_verified)))\n",
    "\n",
    "# Mark them in the original df so that we don't crowdsource them\n",
    "for i in df_crossref.index:\n",
    "    df.loc[i,'verified'] = True\n",
    "\n",
    "# Those not verified\n",
    "df_crossref[df_crossref_verified == False]"
   ]
  },
  {
   "cell_type": "markdown",
   "metadata": {},
   "source": [
    "## viaf.org\n",
    "\n"
   ]
  },
  {
   "cell_type": "code",
   "execution_count": 12,
   "metadata": {},
   "outputs": [
    {
     "data": {
      "text/plain": [
       "ID WorldCat de identidades    18\n",
       "identificador NKC              2\n",
       "identificador NTA              2\n",
       "identificador GND              1\n",
       "ID ref SUDOC                   1\n",
       "identificador BnF              1\n",
       "identificador PTBNP            1\n",
       "identificador BAV              1\n",
       "Name: predicate, dtype: int64"
      ]
     },
     "execution_count": 12,
     "metadata": {},
     "output_type": "execute_result"
    }
   ],
   "source": [
    "df_viaf = df[df['netloc'] == 'viaf.org']\n",
    "df_viaf['predicate'].value_counts()"
   ]
  },
  {
   "cell_type": "code",
   "execution_count": 13,
   "metadata": {},
   "outputs": [
    {
     "name": "stdout",
     "output_type": "stream",
     "text": [
      "100.0% are confirmed\n"
     ]
    },
    {
     "data": {
      "text/html": [
       "<div>\n",
       "<style scoped>\n",
       "    .dataframe tbody tr th:only-of-type {\n",
       "        vertical-align: middle;\n",
       "    }\n",
       "\n",
       "    .dataframe tbody tr th {\n",
       "        vertical-align: top;\n",
       "    }\n",
       "\n",
       "    .dataframe thead th {\n",
       "        text-align: right;\n",
       "    }\n",
       "</style>\n",
       "<table border=\"1\" class=\"dataframe\">\n",
       "  <thead>\n",
       "    <tr style=\"text-align: right;\">\n",
       "      <th></th>\n",
       "      <th>reference_id</th>\n",
       "      <th>url</th>\n",
       "      <th>ref_node_pairs</th>\n",
       "      <th>language_crawl</th>\n",
       "      <th>statement_node</th>\n",
       "      <th>subject</th>\n",
       "      <th>predicate</th>\n",
       "      <th>object</th>\n",
       "      <th>g_id</th>\n",
       "      <th>verified</th>\n",
       "      <th>scheme</th>\n",
       "      <th>netloc</th>\n",
       "      <th>path</th>\n",
       "      <th>params</th>\n",
       "      <th>query</th>\n",
       "      <th>fragment</th>\n",
       "    </tr>\n",
       "  </thead>\n",
       "  <tbody>\n",
       "  </tbody>\n",
       "</table>\n",
       "</div>"
      ],
      "text/plain": [
       "Empty DataFrame\n",
       "Columns: [reference_id, url, ref_node_pairs, language_crawl, statement_node, subject, predicate, object, g_id, verified, scheme, netloc, path, params, query, fragment]\n",
       "Index: []"
      ]
     },
     "execution_count": 13,
     "metadata": {},
     "output_type": "execute_result"
    }
   ],
   "source": [
    "def verify_viaf(row, verbose=True):\n",
    "#verbose = True\n",
    "#for i, row in df_en_pubmed.iterrows():\n",
    "    found = False\n",
    "    subject = row['subject']\n",
    "    obj = row['object']\n",
    "    predicate = row['predicate']\n",
    "    \n",
    "    viaf_id = row['url'].split('/')[-1]\n",
    "    \n",
    "    while 1:\n",
    "        url = 'http://www.viaf.org/viaf/{}/viaf.json'.format(viaf_id)\n",
    "        resp = requests.get(url)\n",
    "        if resp.status_code == 502:\n",
    "            continue\n",
    "        else:\n",
    "            break\n",
    "    try:\n",
    "        d = resp.json()\n",
    "    except Exception:\n",
    "        print(url)\n",
    "        print(resp)\n",
    "        return False\n",
    "    \n",
    "    names = [name['text'] for name in d['mainHeadings']['data']]\n",
    "    for to_add in ['mainHeadings/mainHeadingEl','x400s/x400','x500s/x500']:\n",
    "        to_add = to_add.split('/')\n",
    "        if to_add[0] in d:\n",
    "            if type(d[to_add[0]][to_add[1]]) != list:\n",
    "                d[to_add[0]][to_add[1]] = [d[to_add[0]][to_add[1]]]\n",
    "            names_i = [i['datafield']['subfield'] for i in d[to_add[0]][to_add[1]]]\n",
    "            names_i = [n if type(n) == list else [n] for n in names_i]\n",
    "            names_i = [item['#text'] for sublist in names_i for item in sublist]\n",
    "            names += names_i\n",
    "\n",
    "    if all([compare(subject,name) < 0.9 for name in names]):\n",
    "        if verbose:\n",
    "            print(url)\n",
    "            print(subject)\n",
    "            print(names)\n",
    "        #break\n",
    "        return found\n",
    "    \n",
    "    non_flat_ids = [[s] if type(s) != list else s for s in [s['sources']['sid'] for s in d['mainHeadings']['data']]]\n",
    "    flat_ids = [item for sublist in non_flat_ids for item in sublist]\n",
    "    if 'xLinks' in d:\n",
    "        xLinks = [i if type(i) == str else i['#text'] for i in d['xLinks']['xLink']] if type(d['xLinks']['xLink']) == list else d['xLinks']['xLink']\n",
    "        if type(xLinks) != list:\n",
    "            xLinks = [xLinks]\n",
    "            \n",
    "    if predicate == 'identificador BnF':\n",
    "        value = [i for i in flat_ids if i.startswith('BNF|')][0].split('|')[-1]\n",
    "        if obj in [value, value+'r',value+'t']:\n",
    "            found = True\n",
    "    elif predicate == 'ID WorldCat de identidades':\n",
    "        value = [i for i in xLinks if i.startswith('https://www.worldcat.org/identities/')][0].split('/')[-1]\n",
    "        if obj == value:\n",
    "            found = True\n",
    "    elif predicate == 'identificador BAV':\n",
    "        value = [i for i in flat_ids if i.startswith('BAV|')][0].split('|')[-1]\n",
    "        if obj in [value]:\n",
    "            found = True\n",
    "    elif predicate == 'identificador NTA':\n",
    "        value = [i for i in flat_ids if i.startswith('NTA|')][0].split('|')[-1]\n",
    "        if obj in [value]:\n",
    "            found = True\n",
    "    elif predicate == 'identificador NKC':\n",
    "        value = [i for i in flat_ids if i.startswith('NKC|')][0].split('|')[-1]\n",
    "        if obj in [value]:\n",
    "            found = True\n",
    "    elif predicate == 'ID ref SUDOC':\n",
    "        value = [i for i in flat_ids if i.startswith('SUDOC|')][0].split('|')[-1]\n",
    "        if obj in [value]:\n",
    "            found = True\n",
    "    elif predicate == 'identificador GND':\n",
    "        value = [i for i in flat_ids if i.startswith('DNB|')][0].split('|')[-1]\n",
    "        if obj in [value]:\n",
    "            found = True\n",
    "    elif predicate == 'identificador PTBNP':\n",
    "        value = [i for i in flat_ids if i.startswith('PTBNP|')][0].split('|')[-1]\n",
    "        if obj in [value]:\n",
    "            found = True\n",
    "    else:\n",
    "        print(flat_ids)\n",
    "    \n",
    "    \n",
    "    if not found and verbose:\n",
    "        print(predicate)\n",
    "        print(obj)\n",
    "        print(value)\n",
    "        #break\n",
    "    return found\n",
    "\n",
    "df_viaf_verified = df_viaf.apply(verify_viaf,axis=1)\n",
    "print('{}% are confirmed'.format(100*df_viaf_verified.sum()/len(df_viaf_verified)))\n",
    "\n",
    "# Mark them in the original df so that we don't crowdsource them\n",
    "for i in df_viaf.index:\n",
    "    df.loc[i,'verified'] = True\n",
    "\n",
    "# Those not verified\n",
    "df_viaf[df_viaf_verified == False]"
   ]
  },
  {
   "cell_type": "markdown",
   "metadata": {},
   "source": [
    "## tools.wmflabs.org\n",
    "\n",
    "The info that comes with the API does not always have all the info asked in the predicates, but has sometimes links/coordinates/loose structure that helps you figure it out. For example, Castillo Medieval as titled in Wikidata is in the URl Castillo Medieval (Monturque), and these parenthesis make a distinction between this and other Medieval Castles. It also states in wikidata that it is a biene de interes cultural, but in the URL the only hint at this is that the source url is at http://es.wikipedia.org/w/index.php?title=Anexo:Bienes_de_interés_cultural_de_la_provincia_de_Córdoba&oldid=126223650. So this all requires a human eye."
   ]
  },
  {
   "cell_type": "markdown",
   "metadata": {},
   "source": [
    "## datos.bne.es\n",
    "I could not find an API for this."
   ]
  },
  {
   "cell_type": "markdown",
   "metadata": {},
   "source": [
    "# Final: filter reference list for tasks and create file with checked references"
   ]
  },
  {
   "cell_type": "code",
   "execution_count": 14,
   "metadata": {},
   "outputs": [
    {
     "data": {
      "text/plain": [
       "es.wikipedia.org                         113\n",
       "tools.wmflabs.org                         33\n",
       "datos.bne.es                              19\n",
       "www.museodelprado.es                      14\n",
       "www.congreso.es                            7\n",
       "www.boe.es                                 4\n",
       "www.filmaffinity.com                       4\n",
       "dbe.rah.es                                 4\n",
       "en.wikipedia.org                           3\n",
       "sedici.unlp.edu.ar                         3\n",
       "www.lavanguardia.com                       2\n",
       "isni.org                                   2\n",
       "www.todotango.com                          2\n",
       "www.cdc.gov                                2\n",
       "wikidata-externalid-url.toolforge.org      2\n",
       "www.isni.org                               2\n",
       "www.transfermarkt.com                      2\n",
       "autores.uy                                 2\n",
       "resolver.smak.be                           2\n",
       "catalogo.bne.es                            2\n",
       "www.ejercitodelaire.mde.es                 1\n",
       "alo.co                                     1\n",
       "www.biodiversitylibrary.org                1\n",
       "docm.jccm.es                               1\n",
       "tucodigo.mx                                1\n",
       "abacus.universidadeuropea.es               1\n",
       "data.bnf.fr                                1\n",
       "www.quimica.unam.mx                        1\n",
       "www.rtc.gob.mx                             1\n",
       "www.enciclopedianavarra.com                1\n",
       "cadenaser.com                              1\n",
       "www.museoreinasofia.es                     1\n",
       "acervo.mnav.gub.uy                         1\n",
       "catalogo.share-cat.unina.it                1\n",
       "hemeroteca.abc.es                          1\n",
       "ceres.mcu.es                               1\n",
       "hdl.handle.net                             1\n",
       "www.magrama.gob.es                         1\n",
       "www.eldiadevalladolid.com                  1\n",
       "data.cervantesvirtual.com                  1\n",
       "www.bellasartes.gob.ar                     1\n",
       "www.fpa.es                                 1\n",
       "dialnet.unirioja.es                        1\n",
       "www.csfd.cz                                1\n",
       "www.dof.gob.mx                             1\n",
       "www.cuitonline.com                         1\n",
       "listarojapatrimonio.org                    1\n",
       "calificaciones.incaa.gob.ar                1\n",
       "Name: netloc, dtype: int64"
      ]
     },
     "execution_count": 14,
     "metadata": {},
     "output_type": "execute_result"
    }
   ],
   "source": [
    "df[df['verified'] == False]['netloc'].value_counts()"
   ]
  },
  {
   "cell_type": "code",
   "execution_count": 15,
   "metadata": {},
   "outputs": [
    {
     "name": "stdout",
     "output_type": "stream",
     "text": [
      "Number of non-verified references: 252. That is 74.11764705882354% left from the total.\n"
     ]
    }
   ],
   "source": [
    "not_verified_reference_ids = list(df[df['verified'] == False]['reference_id'])\n",
    "print('Number of non-verified references: {}. That is {}% left from the total.'.format(\n",
    "    len(not_verified_reference_ids), 100*len(not_verified_reference_ids)/df.shape[0]\n",
    "))\n",
    "not_verified_references = [j for j in json_es if j['reference_id'] in not_verified_reference_ids]\n",
    "with open('data/final/filtered_sampled_references_es_rel.json','w',encoding='utf-8') as f:\n",
    "    json.dump(not_verified_references,f ,indent=2,ensure_ascii=False)"
   ]
  },
  {
   "cell_type": "code",
   "execution_count": null,
   "metadata": {},
   "outputs": [],
   "source": [
    "def is_wikipedia(url):\n",
    "    if url.startswith('https://es.wikipedia.org'):\n",
    "        return True\n",
    "    elif url.startswith('https://en.wikipedia.org'):\n",
    "        return True\n",
    "    return False\n",
    "\n",
    "not_verified_references_non_wikipedia = [r for r in not_verified_references if not is_wikipedia(r['url'])]\n",
    "with open('data/final/non_gd_filtered_sampled_references/filtered_sampled_references_es_auth.json','w',encoding='utf-8') as f:\n",
    "    json.dump(not_verified_references_non_wikipedia,f ,indent=2,ensure_ascii=False)"
   ]
  },
  {
   "cell_type": "code",
   "execution_count": 16,
   "metadata": {},
   "outputs": [
    {
     "data": {
      "text/plain": [
       "www.ebi.ac.uk              56\n",
       "viaf.org                   27\n",
       "pubmed.ncbi.nlm.nih.gov     4\n",
       "api.crossref.org            1\n",
       "Name: netloc, dtype: int64"
      ]
     },
     "execution_count": 16,
     "metadata": {},
     "output_type": "execute_result"
    }
   ],
   "source": [
    "df[df['verified'] == True]['netloc'].value_counts()"
   ]
  },
  {
   "cell_type": "code",
   "execution_count": 17,
   "metadata": {},
   "outputs": [
    {
     "name": "stdout",
     "output_type": "stream",
     "text": [
      "Number of verified references: 88. That is 25.88235294117647% from the total.\n"
     ]
    }
   ],
   "source": [
    "verified_reference_ids = list(df[df['verified'] == True]['reference_id'])\n",
    "print('Number of verified references: {}. That is {}% from the total.'.format(\n",
    "    len(verified_reference_ids), 100*len(verified_reference_ids)/df.shape[0]\n",
    "))"
   ]
  },
  {
   "cell_type": "code",
   "execution_count": 20,
   "metadata": {},
   "outputs": [],
   "source": [
    "verified_references = [j for j in json_es if j['reference_id'] in verified_reference_ids]\n",
    "for vr in verified_references:\n",
    "    vr['g_id'] = {\n",
    "      \"relevance\": {\n",
    "          \"is_present\": 1,\n",
    "          \"difficulty\": -1,\n",
    "          \"reason\": -1\n",
    "      },\n",
    "      \"authorit\":{\n",
    "          \"author\": -1,\n",
    "          \"publisher\": -1,\n",
    "          \"sub_publisher\": -1\n",
    "      }\n",
    "    }\n",
    "    \n",
    "    if 'www.ebi.ac.uk/europepmc/webservices/rest/search' in vr['url']:\n",
    "        vr['g_id']['relevance']['difficulty'] = 3\n",
    "        vr['g_id']['authorit']['author'] = 1\n",
    "        vr['g_id']['authorit']['publisher'] = 0\n",
    "        vr['g_id']['authorit']['sub_publisher'] = 0\n",
    "    elif 'pubmed.ncbi.nlm.nih.gov' in vr['url']:\n",
    "        vr['g_id']['relevance']['difficulty'] = 3\n",
    "        vr['g_id']['authorit']['author'] = 1\n",
    "        vr['g_id']['authorit']['publisher'] = 0\n",
    "        vr['g_id']['authorit']['sub_publisher'] = 0\n",
    "    elif 'api.crossref.org' in vr['url']:\n",
    "        vr['g_id']['relevance']['difficulty'] = 1\n",
    "        vr['g_id']['authorit']['author'] = 1\n",
    "        vr['g_id']['authorit']['publisher'] = 0\n",
    "        vr['g_id']['authorit']['sub_publisher'] = 2\n",
    "    elif 'viaf.org' in vr['url']:\n",
    "        vr['g_id']['relevance']['difficulty'] = 2\n",
    "        vr['g_id']['authorit']['author'] = 1\n",
    "        vr['g_id']['authorit']['publisher'] = 1\n",
    "        vr['g_id']['authorit']['sub_publisher'] = 3        \n",
    "\n",
    "with open('data/final/non_gd_annotations_auto_api/autochecked_sampled_references_es.json','w',encoding='utf-8') as f:\n",
    "    json.dump(verified_references,f ,indent=2,ensure_ascii=False)"
   ]
  },
  {
   "cell_type": "markdown",
   "metadata": {},
   "source": [
    "### Then, go to the autochecked results file saved on the previous cell and edit the cases where verification failed"
   ]
  },
  {
   "cell_type": "code",
   "execution_count": null,
   "metadata": {},
   "outputs": [],
   "source": []
  }
 ],
 "metadata": {
  "kernelspec": {
   "display_name": "Python 3",
   "language": "python",
   "name": "python3"
  },
  "language_info": {
   "codemirror_mode": {
    "name": "ipython",
    "version": 3
   },
   "file_extension": ".py",
   "mimetype": "text/x-python",
   "name": "python",
   "nbconvert_exporter": "python",
   "pygments_lexer": "ipython3",
   "version": "3.7.7"
  }
 },
 "nbformat": 4,
 "nbformat_minor": 4
}
